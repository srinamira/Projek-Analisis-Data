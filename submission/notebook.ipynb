{
  "cells": [
    {
      "cell_type": "markdown",
      "metadata": {
        "id": "H9wADwK78DCz"
      },
      "source": [
        "# Proyek Analisis Data: Bike Sharing Dataset\n",
        "- **Nama:** Sri Namira Putri Harnoko\n",
        "- **Email:** srinamira0@gmail.com\n",
        "- **ID Dicoding:** sri_namira_putri_h"
      ]
    },
    {
      "cell_type": "markdown",
      "metadata": {
        "id": "eE0raob58DC0"
      },
      "source": [
        "## Menentukan Pertanyaan Bisnis"
      ]
    },
    {
      "cell_type": "markdown",
      "metadata": {
        "id": "GmQeQ5YF8DC0"
      },
      "source": [
        "- Pertanyaan 1 : Bagaimana distribusi casual user dan registered user saat hari kerja?\n",
        "- Pertanyaan 2 : Apakah jumlah casual user dan registered meningkat selama bulan tertentu dibandingkan dengan bulan lainnya?\n",
        "- Pertanyaan 3 : Apakah terdapat jam tertentu dengan penggunaan sepeda tertinggi dan terendah?"
      ]
    },
    {
      "cell_type": "markdown",
      "metadata": {
        "id": "H-z4QGlO8DC1"
      },
      "source": [
        "## Import Semua Packages/Library yang Digunakan"
      ]
    },
    {
      "cell_type": "code",
      "execution_count": 3,
      "metadata": {
        "id": "FVYwaObI8DC1"
      },
      "outputs": [],
      "source": [
        "import pandas as pd\n",
        "import numpy as np\n",
        "import matplotlib.pyplot as plt\n",
        "import seaborn as sns"
      ]
    },
    {
      "cell_type": "markdown",
      "metadata": {
        "id": "h_Sh51Xy8DC1"
      },
      "source": [
        "## Data Wrangling"
      ]
    },
    {
      "cell_type": "markdown",
      "metadata": {
        "id": "sXU2GBYu8DC1"
      },
      "source": [
        "### Gathering Data"
      ]
    },
    {
      "cell_type": "code",
      "execution_count": 4,
      "metadata": {
        "colab": {
          "base_uri": "https://localhost:8080/",
          "height": 313
        },
        "id": "zjCBk1BI8DC1",
        "outputId": "17240681-24ab-4aa6-fced-f8481bebcd0c"
      },
      "outputs": [
        {
          "data": {
            "text/html": [
              "<div>\n",
              "<style scoped>\n",
              "    .dataframe tbody tr th:only-of-type {\n",
              "        vertical-align: middle;\n",
              "    }\n",
              "\n",
              "    .dataframe tbody tr th {\n",
              "        vertical-align: top;\n",
              "    }\n",
              "\n",
              "    .dataframe thead th {\n",
              "        text-align: right;\n",
              "    }\n",
              "</style>\n",
              "<table border=\"1\" class=\"dataframe\">\n",
              "  <thead>\n",
              "    <tr style=\"text-align: right;\">\n",
              "      <th></th>\n",
              "      <th>instant</th>\n",
              "      <th>dteday</th>\n",
              "      <th>season</th>\n",
              "      <th>yr</th>\n",
              "      <th>mnth</th>\n",
              "      <th>holiday</th>\n",
              "      <th>weekday</th>\n",
              "      <th>workingday</th>\n",
              "      <th>weathersit</th>\n",
              "      <th>temp</th>\n",
              "      <th>atemp</th>\n",
              "      <th>hum</th>\n",
              "      <th>windspeed</th>\n",
              "      <th>casual</th>\n",
              "      <th>registered</th>\n",
              "      <th>cnt</th>\n",
              "    </tr>\n",
              "  </thead>\n",
              "  <tbody>\n",
              "    <tr>\n",
              "      <th>0</th>\n",
              "      <td>1</td>\n",
              "      <td>2011-01-01</td>\n",
              "      <td>1</td>\n",
              "      <td>0</td>\n",
              "      <td>1</td>\n",
              "      <td>0</td>\n",
              "      <td>6</td>\n",
              "      <td>0</td>\n",
              "      <td>2</td>\n",
              "      <td>0.344167</td>\n",
              "      <td>0.363625</td>\n",
              "      <td>0.805833</td>\n",
              "      <td>0.160446</td>\n",
              "      <td>331</td>\n",
              "      <td>654</td>\n",
              "      <td>985</td>\n",
              "    </tr>\n",
              "    <tr>\n",
              "      <th>1</th>\n",
              "      <td>2</td>\n",
              "      <td>2011-01-02</td>\n",
              "      <td>1</td>\n",
              "      <td>0</td>\n",
              "      <td>1</td>\n",
              "      <td>0</td>\n",
              "      <td>0</td>\n",
              "      <td>0</td>\n",
              "      <td>2</td>\n",
              "      <td>0.363478</td>\n",
              "      <td>0.353739</td>\n",
              "      <td>0.696087</td>\n",
              "      <td>0.248539</td>\n",
              "      <td>131</td>\n",
              "      <td>670</td>\n",
              "      <td>801</td>\n",
              "    </tr>\n",
              "    <tr>\n",
              "      <th>2</th>\n",
              "      <td>3</td>\n",
              "      <td>2011-01-03</td>\n",
              "      <td>1</td>\n",
              "      <td>0</td>\n",
              "      <td>1</td>\n",
              "      <td>0</td>\n",
              "      <td>1</td>\n",
              "      <td>1</td>\n",
              "      <td>1</td>\n",
              "      <td>0.196364</td>\n",
              "      <td>0.189405</td>\n",
              "      <td>0.437273</td>\n",
              "      <td>0.248309</td>\n",
              "      <td>120</td>\n",
              "      <td>1229</td>\n",
              "      <td>1349</td>\n",
              "    </tr>\n",
              "    <tr>\n",
              "      <th>3</th>\n",
              "      <td>4</td>\n",
              "      <td>2011-01-04</td>\n",
              "      <td>1</td>\n",
              "      <td>0</td>\n",
              "      <td>1</td>\n",
              "      <td>0</td>\n",
              "      <td>2</td>\n",
              "      <td>1</td>\n",
              "      <td>1</td>\n",
              "      <td>0.200000</td>\n",
              "      <td>0.212122</td>\n",
              "      <td>0.590435</td>\n",
              "      <td>0.160296</td>\n",
              "      <td>108</td>\n",
              "      <td>1454</td>\n",
              "      <td>1562</td>\n",
              "    </tr>\n",
              "    <tr>\n",
              "      <th>4</th>\n",
              "      <td>5</td>\n",
              "      <td>2011-01-05</td>\n",
              "      <td>1</td>\n",
              "      <td>0</td>\n",
              "      <td>1</td>\n",
              "      <td>0</td>\n",
              "      <td>3</td>\n",
              "      <td>1</td>\n",
              "      <td>1</td>\n",
              "      <td>0.226957</td>\n",
              "      <td>0.229270</td>\n",
              "      <td>0.436957</td>\n",
              "      <td>0.186900</td>\n",
              "      <td>82</td>\n",
              "      <td>1518</td>\n",
              "      <td>1600</td>\n",
              "    </tr>\n",
              "  </tbody>\n",
              "</table>\n",
              "</div>"
            ],
            "text/plain": [
              "   instant      dteday  season  yr  mnth  holiday  weekday  workingday  \\\n",
              "0        1  2011-01-01       1   0     1        0        6           0   \n",
              "1        2  2011-01-02       1   0     1        0        0           0   \n",
              "2        3  2011-01-03       1   0     1        0        1           1   \n",
              "3        4  2011-01-04       1   0     1        0        2           1   \n",
              "4        5  2011-01-05       1   0     1        0        3           1   \n",
              "\n",
              "   weathersit      temp     atemp       hum  windspeed  casual  registered  \\\n",
              "0           2  0.344167  0.363625  0.805833   0.160446     331         654   \n",
              "1           2  0.363478  0.353739  0.696087   0.248539     131         670   \n",
              "2           1  0.196364  0.189405  0.437273   0.248309     120        1229   \n",
              "3           1  0.200000  0.212122  0.590435   0.160296     108        1454   \n",
              "4           1  0.226957  0.229270  0.436957   0.186900      82        1518   \n",
              "\n",
              "    cnt  \n",
              "0   985  \n",
              "1   801  \n",
              "2  1349  \n",
              "3  1562  \n",
              "4  1600  "
            ]
          },
          "execution_count": 4,
          "metadata": {},
          "output_type": "execute_result"
        }
      ],
      "source": [
        "day_data = pd.read_csv('data\\day.csv')\n",
        "day_data.head()"
      ]
    },
    {
      "cell_type": "code",
      "execution_count": 5,
      "metadata": {
        "colab": {
          "base_uri": "https://localhost:8080/",
          "height": 293
        },
        "id": "IXTkrVgIlFhv",
        "outputId": "e8a3e7e1-fc34-4a98-db86-69d5420eae69"
      },
      "outputs": [
        {
          "data": {
            "text/html": [
              "<div>\n",
              "<style scoped>\n",
              "    .dataframe tbody tr th:only-of-type {\n",
              "        vertical-align: middle;\n",
              "    }\n",
              "\n",
              "    .dataframe tbody tr th {\n",
              "        vertical-align: top;\n",
              "    }\n",
              "\n",
              "    .dataframe thead th {\n",
              "        text-align: right;\n",
              "    }\n",
              "</style>\n",
              "<table border=\"1\" class=\"dataframe\">\n",
              "  <thead>\n",
              "    <tr style=\"text-align: right;\">\n",
              "      <th></th>\n",
              "      <th>instant</th>\n",
              "      <th>dteday</th>\n",
              "      <th>season</th>\n",
              "      <th>yr</th>\n",
              "      <th>mnth</th>\n",
              "      <th>hr</th>\n",
              "      <th>holiday</th>\n",
              "      <th>weekday</th>\n",
              "      <th>workingday</th>\n",
              "      <th>weathersit</th>\n",
              "      <th>temp</th>\n",
              "      <th>atemp</th>\n",
              "      <th>hum</th>\n",
              "      <th>windspeed</th>\n",
              "      <th>casual</th>\n",
              "      <th>registered</th>\n",
              "      <th>cnt</th>\n",
              "    </tr>\n",
              "  </thead>\n",
              "  <tbody>\n",
              "    <tr>\n",
              "      <th>0</th>\n",
              "      <td>1</td>\n",
              "      <td>2011-01-01</td>\n",
              "      <td>1</td>\n",
              "      <td>0</td>\n",
              "      <td>1</td>\n",
              "      <td>0</td>\n",
              "      <td>0</td>\n",
              "      <td>6</td>\n",
              "      <td>0</td>\n",
              "      <td>1</td>\n",
              "      <td>0.24</td>\n",
              "      <td>0.2879</td>\n",
              "      <td>0.81</td>\n",
              "      <td>0.0</td>\n",
              "      <td>3</td>\n",
              "      <td>13</td>\n",
              "      <td>16</td>\n",
              "    </tr>\n",
              "    <tr>\n",
              "      <th>1</th>\n",
              "      <td>2</td>\n",
              "      <td>2011-01-01</td>\n",
              "      <td>1</td>\n",
              "      <td>0</td>\n",
              "      <td>1</td>\n",
              "      <td>1</td>\n",
              "      <td>0</td>\n",
              "      <td>6</td>\n",
              "      <td>0</td>\n",
              "      <td>1</td>\n",
              "      <td>0.22</td>\n",
              "      <td>0.2727</td>\n",
              "      <td>0.80</td>\n",
              "      <td>0.0</td>\n",
              "      <td>8</td>\n",
              "      <td>32</td>\n",
              "      <td>40</td>\n",
              "    </tr>\n",
              "    <tr>\n",
              "      <th>2</th>\n",
              "      <td>3</td>\n",
              "      <td>2011-01-01</td>\n",
              "      <td>1</td>\n",
              "      <td>0</td>\n",
              "      <td>1</td>\n",
              "      <td>2</td>\n",
              "      <td>0</td>\n",
              "      <td>6</td>\n",
              "      <td>0</td>\n",
              "      <td>1</td>\n",
              "      <td>0.22</td>\n",
              "      <td>0.2727</td>\n",
              "      <td>0.80</td>\n",
              "      <td>0.0</td>\n",
              "      <td>5</td>\n",
              "      <td>27</td>\n",
              "      <td>32</td>\n",
              "    </tr>\n",
              "    <tr>\n",
              "      <th>3</th>\n",
              "      <td>4</td>\n",
              "      <td>2011-01-01</td>\n",
              "      <td>1</td>\n",
              "      <td>0</td>\n",
              "      <td>1</td>\n",
              "      <td>3</td>\n",
              "      <td>0</td>\n",
              "      <td>6</td>\n",
              "      <td>0</td>\n",
              "      <td>1</td>\n",
              "      <td>0.24</td>\n",
              "      <td>0.2879</td>\n",
              "      <td>0.75</td>\n",
              "      <td>0.0</td>\n",
              "      <td>3</td>\n",
              "      <td>10</td>\n",
              "      <td>13</td>\n",
              "    </tr>\n",
              "    <tr>\n",
              "      <th>4</th>\n",
              "      <td>5</td>\n",
              "      <td>2011-01-01</td>\n",
              "      <td>1</td>\n",
              "      <td>0</td>\n",
              "      <td>1</td>\n",
              "      <td>4</td>\n",
              "      <td>0</td>\n",
              "      <td>6</td>\n",
              "      <td>0</td>\n",
              "      <td>1</td>\n",
              "      <td>0.24</td>\n",
              "      <td>0.2879</td>\n",
              "      <td>0.75</td>\n",
              "      <td>0.0</td>\n",
              "      <td>0</td>\n",
              "      <td>1</td>\n",
              "      <td>1</td>\n",
              "    </tr>\n",
              "  </tbody>\n",
              "</table>\n",
              "</div>"
            ],
            "text/plain": [
              "   instant      dteday  season  yr  mnth  hr  holiday  weekday  workingday  \\\n",
              "0        1  2011-01-01       1   0     1   0        0        6           0   \n",
              "1        2  2011-01-01       1   0     1   1        0        6           0   \n",
              "2        3  2011-01-01       1   0     1   2        0        6           0   \n",
              "3        4  2011-01-01       1   0     1   3        0        6           0   \n",
              "4        5  2011-01-01       1   0     1   4        0        6           0   \n",
              "\n",
              "   weathersit  temp   atemp   hum  windspeed  casual  registered  cnt  \n",
              "0           1  0.24  0.2879  0.81        0.0       3          13   16  \n",
              "1           1  0.22  0.2727  0.80        0.0       8          32   40  \n",
              "2           1  0.22  0.2727  0.80        0.0       5          27   32  \n",
              "3           1  0.24  0.2879  0.75        0.0       3          10   13  \n",
              "4           1  0.24  0.2879  0.75        0.0       0           1    1  "
            ]
          },
          "execution_count": 5,
          "metadata": {},
          "output_type": "execute_result"
        }
      ],
      "source": [
        "hour_data = pd.read_csv('data/hour.csv')\n",
        "hour_data.head()"
      ]
    },
    {
      "cell_type": "markdown",
      "metadata": {
        "id": "MMi6xGaDkbCi"
      },
      "source": [
        "**Insight:**\n",
        "- Dari pengamatan awal data day.csv dan hour.csv, terlihat bahwa dataset mencakup beberapa variabel seperti season, temp, cnt (jumlah penggunaan sepeda), weekday, workingday, dan weathersit (situasi cuaca). Variabel-variabel ini penting untuk melihat bagaimana pola penggunaan sepeda dipengaruhi oleh berbagai faktor, seperti musim, cuaca, dan hari dalam seminggu.\n",
        "- day.csv berisi data harian sedangkan hour.csv berisi data per jam. Ini berarti kita dapat melakukan analisis yang lebih mendalam pada waktu-waktu tertentu, misalnya, perbandingan antara penggunaan sepeda pada pagi dan sore hari."
      ]
    },
    {
      "cell_type": "markdown",
      "metadata": {
        "id": "FHSiqaZp8DC1"
      },
      "source": [
        "### Assessing Data"
      ]
    },
    {
      "cell_type": "markdown",
      "metadata": {
        "id": "AGccvteLlLb_"
      },
      "source": [
        "#### **day_data**"
      ]
    },
    {
      "cell_type": "code",
      "execution_count": 6,
      "metadata": {
        "colab": {
          "base_uri": "https://localhost:8080/"
        },
        "id": "ax-3tEjc9Cj1",
        "outputId": "3ccbac7b-1237-4b69-bec9-4e32a15ab0c2"
      },
      "outputs": [
        {
          "name": "stdout",
          "output_type": "stream",
          "text": [
            "<class 'pandas.core.frame.DataFrame'>\n",
            "RangeIndex: 731 entries, 0 to 730\n",
            "Data columns (total 16 columns):\n",
            " #   Column      Non-Null Count  Dtype  \n",
            "---  ------      --------------  -----  \n",
            " 0   instant     731 non-null    int64  \n",
            " 1   dteday      731 non-null    object \n",
            " 2   season      731 non-null    int64  \n",
            " 3   yr          731 non-null    int64  \n",
            " 4   mnth        731 non-null    int64  \n",
            " 5   holiday     731 non-null    int64  \n",
            " 6   weekday     731 non-null    int64  \n",
            " 7   workingday  731 non-null    int64  \n",
            " 8   weathersit  731 non-null    int64  \n",
            " 9   temp        731 non-null    float64\n",
            " 10  atemp       731 non-null    float64\n",
            " 11  hum         731 non-null    float64\n",
            " 12  windspeed   731 non-null    float64\n",
            " 13  casual      731 non-null    int64  \n",
            " 14  registered  731 non-null    int64  \n",
            " 15  cnt         731 non-null    int64  \n",
            "dtypes: float64(4), int64(11), object(1)\n",
            "memory usage: 91.5+ KB\n"
          ]
        }
      ],
      "source": [
        "# Mengecek informasi umum dataset\n",
        "day_data.info()"
      ]
    },
    {
      "cell_type": "code",
      "execution_count": 7,
      "metadata": {
        "colab": {
          "base_uri": "https://localhost:8080/"
        },
        "id": "00zmUW1KmHp1",
        "outputId": "f0922232-49f9-4f80-d5e6-8794a90633a6"
      },
      "outputs": [
        {
          "name": "stdout",
          "output_type": "stream",
          "text": [
            "instant       0\n",
            "dteday        0\n",
            "season        0\n",
            "yr            0\n",
            "mnth          0\n",
            "holiday       0\n",
            "weekday       0\n",
            "workingday    0\n",
            "weathersit    0\n",
            "temp          0\n",
            "atemp         0\n",
            "hum           0\n",
            "windspeed     0\n",
            "casual        0\n",
            "registered    0\n",
            "cnt           0\n",
            "dtype: int64\n"
          ]
        }
      ],
      "source": [
        "# Mengecek missing values\n",
        "print(day_data.isnull().sum())"
      ]
    },
    {
      "cell_type": "code",
      "execution_count": 8,
      "metadata": {
        "colab": {
          "base_uri": "https://localhost:8080/"
        },
        "id": "CWkAJU3SmJIU",
        "outputId": "305c5e6b-1ff1-41f7-8427-730ded22a21f"
      },
      "outputs": [
        {
          "name": "stdout",
          "output_type": "stream",
          "text": [
            "Jumlah duplikasi:  0\n"
          ]
        }
      ],
      "source": [
        "print(\"Jumlah duplikasi: \", day_data.duplicated().sum())"
      ]
    },
    {
      "cell_type": "markdown",
      "metadata": {
        "id": "rvBKnOv5lmIF"
      },
      "source": [
        "#### **hour_data**"
      ]
    },
    {
      "cell_type": "code",
      "execution_count": 9,
      "metadata": {
        "colab": {
          "base_uri": "https://localhost:8080/"
        },
        "id": "q-3A_fTmlo-5",
        "outputId": "a364c206-0cfe-4ce2-a34d-6904f60fd9e7"
      },
      "outputs": [
        {
          "name": "stdout",
          "output_type": "stream",
          "text": [
            "<class 'pandas.core.frame.DataFrame'>\n",
            "RangeIndex: 17379 entries, 0 to 17378\n",
            "Data columns (total 17 columns):\n",
            " #   Column      Non-Null Count  Dtype  \n",
            "---  ------      --------------  -----  \n",
            " 0   instant     17379 non-null  int64  \n",
            " 1   dteday      17379 non-null  object \n",
            " 2   season      17379 non-null  int64  \n",
            " 3   yr          17379 non-null  int64  \n",
            " 4   mnth        17379 non-null  int64  \n",
            " 5   hr          17379 non-null  int64  \n",
            " 6   holiday     17379 non-null  int64  \n",
            " 7   weekday     17379 non-null  int64  \n",
            " 8   workingday  17379 non-null  int64  \n",
            " 9   weathersit  17379 non-null  int64  \n",
            " 10  temp        17379 non-null  float64\n",
            " 11  atemp       17379 non-null  float64\n",
            " 12  hum         17379 non-null  float64\n",
            " 13  windspeed   17379 non-null  float64\n",
            " 14  casual      17379 non-null  int64  \n",
            " 15  registered  17379 non-null  int64  \n",
            " 16  cnt         17379 non-null  int64  \n",
            "dtypes: float64(4), int64(12), object(1)\n",
            "memory usage: 2.3+ MB\n",
            "None\n"
          ]
        }
      ],
      "source": [
        "# Mengecek informasi umum dataset\n",
        "print(hour_data.info())"
      ]
    },
    {
      "cell_type": "code",
      "execution_count": 10,
      "metadata": {
        "colab": {
          "base_uri": "https://localhost:8080/"
        },
        "id": "IXIqGTfOmOfu",
        "outputId": "430665e2-f40f-42f0-c39f-d88447bf94fb"
      },
      "outputs": [
        {
          "name": "stdout",
          "output_type": "stream",
          "text": [
            "instant       0\n",
            "dteday        0\n",
            "season        0\n",
            "yr            0\n",
            "mnth          0\n",
            "hr            0\n",
            "holiday       0\n",
            "weekday       0\n",
            "workingday    0\n",
            "weathersit    0\n",
            "temp          0\n",
            "atemp         0\n",
            "hum           0\n",
            "windspeed     0\n",
            "casual        0\n",
            "registered    0\n",
            "cnt           0\n",
            "dtype: int64\n"
          ]
        }
      ],
      "source": [
        "# Mengecek missing values\n",
        "print(hour_data.isnull().sum())"
      ]
    },
    {
      "cell_type": "code",
      "execution_count": 11,
      "metadata": {
        "colab": {
          "base_uri": "https://localhost:8080/"
        },
        "id": "RmJ6JFR8mPHJ",
        "outputId": "f338875d-97b8-4551-a311-b453013975b1"
      },
      "outputs": [
        {
          "name": "stdout",
          "output_type": "stream",
          "text": [
            "Jumlah duplikasi:  0\n"
          ]
        }
      ],
      "source": [
        "print(\"Jumlah duplikasi: \", hour_data.duplicated().sum())"
      ]
    },
    {
      "cell_type": "markdown",
      "metadata": {
        "id": "taIMrgMbmEqU"
      },
      "source": [
        "**Insight:**\n",
        "- Tidak ada missing value di dataset ini, yang berarti tidak ada data yang hilang dan kita dapat melanjutkan ke tahap pembersihan tanpa perlu menangani nilai-nilai yang kosong. Tidak ada duplikasi pada dataset yang digunakan."
      ]
    },
    {
      "cell_type": "markdown",
      "metadata": {
        "id": "EhN5R4hr8DC1"
      },
      "source": [
        "### Cleaning Data"
      ]
    },
    {
      "cell_type": "markdown",
      "metadata": {
        "id": "TjznrascyfgT"
      },
      "source": [
        "#### **day_data**"
      ]
    },
    {
      "cell_type": "markdown",
      "metadata": {
        "id": "vEyFJHOg44DH"
      },
      "source": [
        "- Mengubah tipe data kolom dteday dari object menjadi datetime"
      ]
    },
    {
      "cell_type": "code",
      "execution_count": 12,
      "metadata": {
        "id": "UpIjm112sU8d"
      },
      "outputs": [],
      "source": [
        "day_data['dteday'] = pd.to_datetime(day_data['dteday'])"
      ]
    },
    {
      "cell_type": "code",
      "execution_count": 13,
      "metadata": {
        "colab": {
          "base_uri": "https://localhost:8080/"
        },
        "id": "mJyjqhDbr_Ap",
        "outputId": "a3826c60-7e92-4c08-8505-5f273c46370f"
      },
      "outputs": [
        {
          "name": "stdout",
          "output_type": "stream",
          "text": [
            "<class 'pandas.core.frame.DataFrame'>\n",
            "RangeIndex: 731 entries, 0 to 730\n",
            "Data columns (total 16 columns):\n",
            " #   Column      Non-Null Count  Dtype         \n",
            "---  ------      --------------  -----         \n",
            " 0   instant     731 non-null    int64         \n",
            " 1   dteday      731 non-null    datetime64[ns]\n",
            " 2   season      731 non-null    int64         \n",
            " 3   yr          731 non-null    int64         \n",
            " 4   mnth        731 non-null    int64         \n",
            " 5   holiday     731 non-null    int64         \n",
            " 6   weekday     731 non-null    int64         \n",
            " 7   workingday  731 non-null    int64         \n",
            " 8   weathersit  731 non-null    int64         \n",
            " 9   temp        731 non-null    float64       \n",
            " 10  atemp       731 non-null    float64       \n",
            " 11  hum         731 non-null    float64       \n",
            " 12  windspeed   731 non-null    float64       \n",
            " 13  casual      731 non-null    int64         \n",
            " 14  registered  731 non-null    int64         \n",
            " 15  cnt         731 non-null    int64         \n",
            "dtypes: datetime64[ns](1), float64(4), int64(11)\n",
            "memory usage: 91.5 KB\n"
          ]
        }
      ],
      "source": [
        "day_data.info()"
      ]
    },
    {
      "cell_type": "markdown",
      "metadata": {
        "id": "ss7X0LSC46LL"
      },
      "source": [
        "- Mengonversi season dari numerik menjadi kategorik (Spring, Summer, Fall, Winter)"
      ]
    },
    {
      "cell_type": "code",
      "execution_count": 14,
      "metadata": {
        "id": "F9UvgHxYsvna"
      },
      "outputs": [],
      "source": [
        "season_mapping = {1: 'Spring', 2: 'Summer', 3: 'Fall', 4: 'Winter'}\n",
        "day_data['season'] = day_data['season'].map(season_mapping)"
      ]
    },
    {
      "cell_type": "markdown",
      "metadata": {
        "id": "dDSCyTxO5ANO"
      },
      "source": [
        "- Mengonversi yr dari numerik menjadi kategorik (2011, 2012)"
      ]
    },
    {
      "cell_type": "code",
      "execution_count": 15,
      "metadata": {
        "id": "qdQ7CPS2u5bb"
      },
      "outputs": [],
      "source": [
        "year_mapping = {0: '2011', 1: '2012'}\n",
        "day_data['yr'] = day_data['yr'].map(year_mapping)"
      ]
    },
    {
      "cell_type": "markdown",
      "metadata": {
        "id": "9TvQ4Q4U5Gmm"
      },
      "source": [
        "- Mengonversi mnth dari numerik menjadi kategorik\n",
        "(January, February, March, April, May, June, July, August, September, October, November, December)"
      ]
    },
    {
      "cell_type": "code",
      "execution_count": 16,
      "metadata": {
        "id": "brSyMZXx4OeK"
      },
      "outputs": [],
      "source": [
        "month_mapping = {1: 'January', 2: 'February', 3: 'March', 4: 'April', 5: 'May', 6: 'June',\n",
        "                7: 'July', 8: 'August', 9: 'September', 10: 'October', 11: 'November', 12: 'December',}\n",
        "day_data['mnth'] = day_data['mnth'].map(month_mapping)"
      ]
    },
    {
      "cell_type": "markdown",
      "metadata": {
        "id": "-ReKrPFk40s1"
      },
      "source": [
        "- Mengonversi holiday dari numerik menjadi kategorik (No, Yes)"
      ]
    },
    {
      "cell_type": "code",
      "execution_count": 17,
      "metadata": {
        "id": "71fR0cypJMP4"
      },
      "outputs": [],
      "source": [
        "# Mengonversi holiday dari numerik menjadi kategorik (No, Yes)\n",
        "holiday_mapping = {0: 'No', 1: 'Yes'}\n",
        "day_data['holiday'] = day_data['holiday'].map(holiday_mapping)"
      ]
    },
    {
      "cell_type": "markdown",
      "metadata": {
        "id": "TcOu1Vt35UwQ"
      },
      "source": [
        "- Mengonversi weekday dari numerik menjadi kategorik (Sunday, Monday, Tuesday, Wednesday, Thursday, Friday, Saturday)"
      ]
    },
    {
      "cell_type": "code",
      "execution_count": 18,
      "metadata": {
        "id": "8w_J5mf6vPmC"
      },
      "outputs": [],
      "source": [
        "weekday_mapping = {0: 'Sunday', 1: 'Monday', 2: 'Tuesday', 3: 'Wednesday', 4: 'Thursday', 5: 'Friday', 6: 'Saturday'}\n",
        "day_data['weekday'] = day_data['weekday'].map(weekday_mapping)"
      ]
    },
    {
      "cell_type": "markdown",
      "metadata": {
        "id": "kDzoE4Zb5X4e"
      },
      "source": [
        "- Mengonversi workingday dari numerik menjadi kategorik (No, Yes)"
      ]
    },
    {
      "cell_type": "code",
      "execution_count": 19,
      "metadata": {
        "id": "TftRkv3ivpnx"
      },
      "outputs": [],
      "source": [
        "workingday_mapping = {0: 'No', 1: 'Yes'}\n",
        "day_data['workingday'] = day_data['workingday'].map(workingday_mapping)"
      ]
    },
    {
      "cell_type": "markdown",
      "metadata": {
        "id": "CGmd03N35am3"
      },
      "source": [
        "- Mengonversi weathersit dari numerik menjadi kategorik (Clear, Mist, Light Snow, Heavy Rain)"
      ]
    },
    {
      "cell_type": "code",
      "execution_count": 20,
      "metadata": {
        "id": "VKpGHqHKxpln"
      },
      "outputs": [],
      "source": [
        "weather_mapping = {1: 'Clear', 2: 'Mist', 3: 'Light Snow', 4: 'Heavy Rain'}\n",
        "day_data['weathersit'] = day_data['weathersit'].map(weather_mapping)"
      ]
    },
    {
      "cell_type": "code",
      "execution_count": 21,
      "metadata": {
        "colab": {
          "base_uri": "https://localhost:8080/",
          "height": 313
        },
        "id": "FlaKMWFEtJnO",
        "outputId": "116d72c5-482d-4064-f5b6-bb1f86a2a0d5"
      },
      "outputs": [
        {
          "data": {
            "text/html": [
              "<div>\n",
              "<style scoped>\n",
              "    .dataframe tbody tr th:only-of-type {\n",
              "        vertical-align: middle;\n",
              "    }\n",
              "\n",
              "    .dataframe tbody tr th {\n",
              "        vertical-align: top;\n",
              "    }\n",
              "\n",
              "    .dataframe thead th {\n",
              "        text-align: right;\n",
              "    }\n",
              "</style>\n",
              "<table border=\"1\" class=\"dataframe\">\n",
              "  <thead>\n",
              "    <tr style=\"text-align: right;\">\n",
              "      <th></th>\n",
              "      <th>instant</th>\n",
              "      <th>dteday</th>\n",
              "      <th>season</th>\n",
              "      <th>yr</th>\n",
              "      <th>mnth</th>\n",
              "      <th>holiday</th>\n",
              "      <th>weekday</th>\n",
              "      <th>workingday</th>\n",
              "      <th>weathersit</th>\n",
              "      <th>temp</th>\n",
              "      <th>atemp</th>\n",
              "      <th>hum</th>\n",
              "      <th>windspeed</th>\n",
              "      <th>casual</th>\n",
              "      <th>registered</th>\n",
              "      <th>cnt</th>\n",
              "    </tr>\n",
              "  </thead>\n",
              "  <tbody>\n",
              "    <tr>\n",
              "      <th>0</th>\n",
              "      <td>1</td>\n",
              "      <td>2011-01-01</td>\n",
              "      <td>Spring</td>\n",
              "      <td>2011</td>\n",
              "      <td>January</td>\n",
              "      <td>No</td>\n",
              "      <td>Saturday</td>\n",
              "      <td>No</td>\n",
              "      <td>Mist</td>\n",
              "      <td>0.344167</td>\n",
              "      <td>0.363625</td>\n",
              "      <td>0.805833</td>\n",
              "      <td>0.160446</td>\n",
              "      <td>331</td>\n",
              "      <td>654</td>\n",
              "      <td>985</td>\n",
              "    </tr>\n",
              "    <tr>\n",
              "      <th>1</th>\n",
              "      <td>2</td>\n",
              "      <td>2011-01-02</td>\n",
              "      <td>Spring</td>\n",
              "      <td>2011</td>\n",
              "      <td>January</td>\n",
              "      <td>No</td>\n",
              "      <td>Sunday</td>\n",
              "      <td>No</td>\n",
              "      <td>Mist</td>\n",
              "      <td>0.363478</td>\n",
              "      <td>0.353739</td>\n",
              "      <td>0.696087</td>\n",
              "      <td>0.248539</td>\n",
              "      <td>131</td>\n",
              "      <td>670</td>\n",
              "      <td>801</td>\n",
              "    </tr>\n",
              "    <tr>\n",
              "      <th>2</th>\n",
              "      <td>3</td>\n",
              "      <td>2011-01-03</td>\n",
              "      <td>Spring</td>\n",
              "      <td>2011</td>\n",
              "      <td>January</td>\n",
              "      <td>No</td>\n",
              "      <td>Monday</td>\n",
              "      <td>Yes</td>\n",
              "      <td>Clear</td>\n",
              "      <td>0.196364</td>\n",
              "      <td>0.189405</td>\n",
              "      <td>0.437273</td>\n",
              "      <td>0.248309</td>\n",
              "      <td>120</td>\n",
              "      <td>1229</td>\n",
              "      <td>1349</td>\n",
              "    </tr>\n",
              "    <tr>\n",
              "      <th>3</th>\n",
              "      <td>4</td>\n",
              "      <td>2011-01-04</td>\n",
              "      <td>Spring</td>\n",
              "      <td>2011</td>\n",
              "      <td>January</td>\n",
              "      <td>No</td>\n",
              "      <td>Tuesday</td>\n",
              "      <td>Yes</td>\n",
              "      <td>Clear</td>\n",
              "      <td>0.200000</td>\n",
              "      <td>0.212122</td>\n",
              "      <td>0.590435</td>\n",
              "      <td>0.160296</td>\n",
              "      <td>108</td>\n",
              "      <td>1454</td>\n",
              "      <td>1562</td>\n",
              "    </tr>\n",
              "    <tr>\n",
              "      <th>4</th>\n",
              "      <td>5</td>\n",
              "      <td>2011-01-05</td>\n",
              "      <td>Spring</td>\n",
              "      <td>2011</td>\n",
              "      <td>January</td>\n",
              "      <td>No</td>\n",
              "      <td>Wednesday</td>\n",
              "      <td>Yes</td>\n",
              "      <td>Clear</td>\n",
              "      <td>0.226957</td>\n",
              "      <td>0.229270</td>\n",
              "      <td>0.436957</td>\n",
              "      <td>0.186900</td>\n",
              "      <td>82</td>\n",
              "      <td>1518</td>\n",
              "      <td>1600</td>\n",
              "    </tr>\n",
              "  </tbody>\n",
              "</table>\n",
              "</div>"
            ],
            "text/plain": [
              "   instant     dteday  season    yr     mnth holiday    weekday workingday  \\\n",
              "0        1 2011-01-01  Spring  2011  January      No   Saturday         No   \n",
              "1        2 2011-01-02  Spring  2011  January      No     Sunday         No   \n",
              "2        3 2011-01-03  Spring  2011  January      No     Monday        Yes   \n",
              "3        4 2011-01-04  Spring  2011  January      No    Tuesday        Yes   \n",
              "4        5 2011-01-05  Spring  2011  January      No  Wednesday        Yes   \n",
              "\n",
              "  weathersit      temp     atemp       hum  windspeed  casual  registered  \\\n",
              "0       Mist  0.344167  0.363625  0.805833   0.160446     331         654   \n",
              "1       Mist  0.363478  0.353739  0.696087   0.248539     131         670   \n",
              "2      Clear  0.196364  0.189405  0.437273   0.248309     120        1229   \n",
              "3      Clear  0.200000  0.212122  0.590435   0.160296     108        1454   \n",
              "4      Clear  0.226957  0.229270  0.436957   0.186900      82        1518   \n",
              "\n",
              "    cnt  \n",
              "0   985  \n",
              "1   801  \n",
              "2  1349  \n",
              "3  1562  \n",
              "4  1600  "
            ]
          },
          "execution_count": 21,
          "metadata": {},
          "output_type": "execute_result"
        }
      ],
      "source": [
        "day_data.head()"
      ]
    },
    {
      "cell_type": "markdown",
      "metadata": {
        "id": "271gnG-6ywsy"
      },
      "source": [
        "#### **hour_data**"
      ]
    },
    {
      "cell_type": "markdown",
      "metadata": {
        "id": "Qt73STvW5qqp"
      },
      "source": [
        "- Mengubah tipe data kolom dteday dari object menjadi datetime"
      ]
    },
    {
      "cell_type": "code",
      "execution_count": 22,
      "metadata": {
        "id": "d4uHm1rBy7Vn"
      },
      "outputs": [],
      "source": [
        "hour_data['dteday'] = pd.to_datetime(day_data['dteday'])"
      ]
    },
    {
      "cell_type": "code",
      "execution_count": 23,
      "metadata": {
        "colab": {
          "base_uri": "https://localhost:8080/"
        },
        "id": "UVNJebxEy-MY",
        "outputId": "04c0fe5f-74a7-406b-ffe4-c4f02883c6a8"
      },
      "outputs": [
        {
          "name": "stdout",
          "output_type": "stream",
          "text": [
            "<class 'pandas.core.frame.DataFrame'>\n",
            "RangeIndex: 17379 entries, 0 to 17378\n",
            "Data columns (total 17 columns):\n",
            " #   Column      Non-Null Count  Dtype         \n",
            "---  ------      --------------  -----         \n",
            " 0   instant     17379 non-null  int64         \n",
            " 1   dteday      731 non-null    datetime64[ns]\n",
            " 2   season      17379 non-null  int64         \n",
            " 3   yr          17379 non-null  int64         \n",
            " 4   mnth        17379 non-null  int64         \n",
            " 5   hr          17379 non-null  int64         \n",
            " 6   holiday     17379 non-null  int64         \n",
            " 7   weekday     17379 non-null  int64         \n",
            " 8   workingday  17379 non-null  int64         \n",
            " 9   weathersit  17379 non-null  int64         \n",
            " 10  temp        17379 non-null  float64       \n",
            " 11  atemp       17379 non-null  float64       \n",
            " 12  hum         17379 non-null  float64       \n",
            " 13  windspeed   17379 non-null  float64       \n",
            " 14  casual      17379 non-null  int64         \n",
            " 15  registered  17379 non-null  int64         \n",
            " 16  cnt         17379 non-null  int64         \n",
            "dtypes: datetime64[ns](1), float64(4), int64(12)\n",
            "memory usage: 2.3 MB\n"
          ]
        }
      ],
      "source": [
        "hour_data.info()"
      ]
    },
    {
      "cell_type": "markdown",
      "metadata": {
        "id": "he2z97I35ttX"
      },
      "source": [
        "- Mengonversi season dari numerik menjadi kategorik (Spring, Summer, Fall, Winter)"
      ]
    },
    {
      "cell_type": "code",
      "execution_count": 24,
      "metadata": {
        "id": "hOvcRKnP1sQw"
      },
      "outputs": [],
      "source": [
        "season_mapping = {1: 'Spring', 2: 'Summer', 3: 'Fall', 4: 'Winter'}\n",
        "hour_data['season'] = hour_data['season'].map(season_mapping)"
      ]
    },
    {
      "cell_type": "markdown",
      "metadata": {
        "id": "TfPyMGJa5wj2"
      },
      "source": [
        "- Mengonversi yr dari numerik menjadi kategorik (2011, 2012)"
      ]
    },
    {
      "cell_type": "code",
      "execution_count": 25,
      "metadata": {
        "id": "b40uB5YR1xVC"
      },
      "outputs": [],
      "source": [
        "year_mapping = {0: '2011', 1: '2012'}\n",
        "hour_data['yr'] = hour_data['yr'].map(year_mapping)"
      ]
    },
    {
      "cell_type": "markdown",
      "metadata": {
        "id": "w8C2uyBm52Np"
      },
      "source": [
        "- Mengonversi mnth dari numerik menjadi kategorik (January, February, March, April, May, June, July, August, September, October, November, December)"
      ]
    },
    {
      "cell_type": "code",
      "execution_count": 26,
      "metadata": {
        "id": "h3tQi9652KtN"
      },
      "outputs": [],
      "source": [
        "month_mapping = {1: 'January', 2: 'February', 3: 'March', 4: 'April', 5: 'May', 6: 'June',\n",
        "                7: 'July', 8: 'August', 9: 'September', 10: 'October', 11: 'November', 12: 'December',}\n",
        "hour_data['mnth'] = hour_data['mnth'].map(month_mapping)"
      ]
    },
    {
      "cell_type": "markdown",
      "metadata": {
        "id": "odCaUaKXJWme"
      },
      "source": [
        "- Mengonversi holiday dari numerik menjadi kategorik (No, Yes)"
      ]
    },
    {
      "cell_type": "code",
      "execution_count": 27,
      "metadata": {
        "id": "-u_T3LcXJVv1"
      },
      "outputs": [],
      "source": [
        "# Mengonversi holiday dari numerik menjadi kategorik (No, Yes)\n",
        "holiday_mapping = {0: 'No', 1: 'Yes'}\n",
        "hour_data['holiday'] = hour_data['holiday'].map(holiday_mapping)"
      ]
    },
    {
      "cell_type": "markdown",
      "metadata": {
        "id": "1Ss6mLWT59rf"
      },
      "source": [
        "- Mengonversi weekday dari numerik menjadi kategorik (Sunday, Monday, Tuesday, Wednesday, Thursday, Friday, Saturday)"
      ]
    },
    {
      "cell_type": "code",
      "execution_count": 28,
      "metadata": {
        "id": "aOHkt9qo10qh"
      },
      "outputs": [],
      "source": [
        "weekday_mapping = {0: 'Sunday', 1: 'Monday', 2: 'Tuesday', 3: 'Wednesday', 4: 'Thursday', 5: 'Friday', 6: 'Saturday'}\n",
        "hour_data['weekday'] = hour_data['weekday'].map(weekday_mapping)"
      ]
    },
    {
      "cell_type": "markdown",
      "metadata": {
        "id": "jB6hLEXm5_yD"
      },
      "source": [
        "- Mengonversi workingday dari numerik menjadi kategorik (No, Yes)"
      ]
    },
    {
      "cell_type": "code",
      "execution_count": 29,
      "metadata": {
        "id": "DanaJGQM17qV"
      },
      "outputs": [],
      "source": [
        "workingday_mapping = {0: 'No', 1: 'Yes'}\n",
        "hour_data['workingday'] = hour_data['workingday'].map(workingday_mapping)"
      ]
    },
    {
      "cell_type": "markdown",
      "metadata": {
        "id": "EN4XM-Rj6Bz4"
      },
      "source": [
        "- Mengonversi weathersit dari numerik menjadi kategorik (Clear, Mist, Light Snow, Heavy Rain)"
      ]
    },
    {
      "cell_type": "code",
      "execution_count": 30,
      "metadata": {
        "id": "R3Yy4wpo2D2Y"
      },
      "outputs": [],
      "source": [
        "weather_mapping = {1: 'Clear', 2: 'Mist', 3: 'Light Snow', 4: 'Heavy Rain'}\n",
        "hour_data['weathersit'] = hour_data['weathersit'].map(weather_mapping)"
      ]
    },
    {
      "cell_type": "code",
      "execution_count": 31,
      "metadata": {
        "colab": {
          "base_uri": "https://localhost:8080/",
          "height": 313
        },
        "id": "KIf26dg71d_m",
        "outputId": "79027a37-257e-437e-c2ed-36fc6f292d81"
      },
      "outputs": [
        {
          "data": {
            "text/html": [
              "<div>\n",
              "<style scoped>\n",
              "    .dataframe tbody tr th:only-of-type {\n",
              "        vertical-align: middle;\n",
              "    }\n",
              "\n",
              "    .dataframe tbody tr th {\n",
              "        vertical-align: top;\n",
              "    }\n",
              "\n",
              "    .dataframe thead th {\n",
              "        text-align: right;\n",
              "    }\n",
              "</style>\n",
              "<table border=\"1\" class=\"dataframe\">\n",
              "  <thead>\n",
              "    <tr style=\"text-align: right;\">\n",
              "      <th></th>\n",
              "      <th>instant</th>\n",
              "      <th>dteday</th>\n",
              "      <th>season</th>\n",
              "      <th>yr</th>\n",
              "      <th>mnth</th>\n",
              "      <th>hr</th>\n",
              "      <th>holiday</th>\n",
              "      <th>weekday</th>\n",
              "      <th>workingday</th>\n",
              "      <th>weathersit</th>\n",
              "      <th>temp</th>\n",
              "      <th>atemp</th>\n",
              "      <th>hum</th>\n",
              "      <th>windspeed</th>\n",
              "      <th>casual</th>\n",
              "      <th>registered</th>\n",
              "      <th>cnt</th>\n",
              "    </tr>\n",
              "  </thead>\n",
              "  <tbody>\n",
              "    <tr>\n",
              "      <th>0</th>\n",
              "      <td>1</td>\n",
              "      <td>2011-01-01</td>\n",
              "      <td>Spring</td>\n",
              "      <td>2011</td>\n",
              "      <td>January</td>\n",
              "      <td>0</td>\n",
              "      <td>No</td>\n",
              "      <td>Saturday</td>\n",
              "      <td>No</td>\n",
              "      <td>Clear</td>\n",
              "      <td>0.24</td>\n",
              "      <td>0.2879</td>\n",
              "      <td>0.81</td>\n",
              "      <td>0.0</td>\n",
              "      <td>3</td>\n",
              "      <td>13</td>\n",
              "      <td>16</td>\n",
              "    </tr>\n",
              "    <tr>\n",
              "      <th>1</th>\n",
              "      <td>2</td>\n",
              "      <td>2011-01-02</td>\n",
              "      <td>Spring</td>\n",
              "      <td>2011</td>\n",
              "      <td>January</td>\n",
              "      <td>1</td>\n",
              "      <td>No</td>\n",
              "      <td>Saturday</td>\n",
              "      <td>No</td>\n",
              "      <td>Clear</td>\n",
              "      <td>0.22</td>\n",
              "      <td>0.2727</td>\n",
              "      <td>0.80</td>\n",
              "      <td>0.0</td>\n",
              "      <td>8</td>\n",
              "      <td>32</td>\n",
              "      <td>40</td>\n",
              "    </tr>\n",
              "    <tr>\n",
              "      <th>2</th>\n",
              "      <td>3</td>\n",
              "      <td>2011-01-03</td>\n",
              "      <td>Spring</td>\n",
              "      <td>2011</td>\n",
              "      <td>January</td>\n",
              "      <td>2</td>\n",
              "      <td>No</td>\n",
              "      <td>Saturday</td>\n",
              "      <td>No</td>\n",
              "      <td>Clear</td>\n",
              "      <td>0.22</td>\n",
              "      <td>0.2727</td>\n",
              "      <td>0.80</td>\n",
              "      <td>0.0</td>\n",
              "      <td>5</td>\n",
              "      <td>27</td>\n",
              "      <td>32</td>\n",
              "    </tr>\n",
              "    <tr>\n",
              "      <th>3</th>\n",
              "      <td>4</td>\n",
              "      <td>2011-01-04</td>\n",
              "      <td>Spring</td>\n",
              "      <td>2011</td>\n",
              "      <td>January</td>\n",
              "      <td>3</td>\n",
              "      <td>No</td>\n",
              "      <td>Saturday</td>\n",
              "      <td>No</td>\n",
              "      <td>Clear</td>\n",
              "      <td>0.24</td>\n",
              "      <td>0.2879</td>\n",
              "      <td>0.75</td>\n",
              "      <td>0.0</td>\n",
              "      <td>3</td>\n",
              "      <td>10</td>\n",
              "      <td>13</td>\n",
              "    </tr>\n",
              "    <tr>\n",
              "      <th>4</th>\n",
              "      <td>5</td>\n",
              "      <td>2011-01-05</td>\n",
              "      <td>Spring</td>\n",
              "      <td>2011</td>\n",
              "      <td>January</td>\n",
              "      <td>4</td>\n",
              "      <td>No</td>\n",
              "      <td>Saturday</td>\n",
              "      <td>No</td>\n",
              "      <td>Clear</td>\n",
              "      <td>0.24</td>\n",
              "      <td>0.2879</td>\n",
              "      <td>0.75</td>\n",
              "      <td>0.0</td>\n",
              "      <td>0</td>\n",
              "      <td>1</td>\n",
              "      <td>1</td>\n",
              "    </tr>\n",
              "  </tbody>\n",
              "</table>\n",
              "</div>"
            ],
            "text/plain": [
              "   instant     dteday  season    yr     mnth  hr holiday   weekday workingday  \\\n",
              "0        1 2011-01-01  Spring  2011  January   0      No  Saturday         No   \n",
              "1        2 2011-01-02  Spring  2011  January   1      No  Saturday         No   \n",
              "2        3 2011-01-03  Spring  2011  January   2      No  Saturday         No   \n",
              "3        4 2011-01-04  Spring  2011  January   3      No  Saturday         No   \n",
              "4        5 2011-01-05  Spring  2011  January   4      No  Saturday         No   \n",
              "\n",
              "  weathersit  temp   atemp   hum  windspeed  casual  registered  cnt  \n",
              "0      Clear  0.24  0.2879  0.81        0.0       3          13   16  \n",
              "1      Clear  0.22  0.2727  0.80        0.0       8          32   40  \n",
              "2      Clear  0.22  0.2727  0.80        0.0       5          27   32  \n",
              "3      Clear  0.24  0.2879  0.75        0.0       3          10   13  \n",
              "4      Clear  0.24  0.2879  0.75        0.0       0           1    1  "
            ]
          },
          "execution_count": 31,
          "metadata": {},
          "output_type": "execute_result"
        }
      ],
      "source": [
        "hour_data.head()"
      ]
    },
    {
      "cell_type": "markdown",
      "metadata": {
        "id": "gp-Y6wU38DC1"
      },
      "source": [
        "## Exploratory Data Analysis (EDA)"
      ]
    },
    {
      "cell_type": "markdown",
      "metadata": {
        "id": "q87n62Y06u6Y"
      },
      "source": [
        "#### **day_data**"
      ]
    },
    {
      "cell_type": "code",
      "execution_count": 32,
      "metadata": {
        "colab": {
          "base_uri": "https://localhost:8080/",
          "height": 622
        },
        "id": "7RdXGm5L6zMl",
        "outputId": "b85fdb61-bbd4-446c-fafb-44db6c271dfa"
      },
      "outputs": [
        {
          "data": {
            "text/html": [
              "<div>\n",
              "<style scoped>\n",
              "    .dataframe tbody tr th:only-of-type {\n",
              "        vertical-align: middle;\n",
              "    }\n",
              "\n",
              "    .dataframe tbody tr th {\n",
              "        vertical-align: top;\n",
              "    }\n",
              "\n",
              "    .dataframe thead th {\n",
              "        text-align: right;\n",
              "    }\n",
              "</style>\n",
              "<table border=\"1\" class=\"dataframe\">\n",
              "  <thead>\n",
              "    <tr style=\"text-align: right;\">\n",
              "      <th></th>\n",
              "      <th>instant</th>\n",
              "      <th>dteday</th>\n",
              "      <th>season</th>\n",
              "      <th>yr</th>\n",
              "      <th>mnth</th>\n",
              "      <th>holiday</th>\n",
              "      <th>weekday</th>\n",
              "      <th>workingday</th>\n",
              "      <th>weathersit</th>\n",
              "      <th>temp</th>\n",
              "      <th>atemp</th>\n",
              "      <th>hum</th>\n",
              "      <th>windspeed</th>\n",
              "      <th>casual</th>\n",
              "      <th>registered</th>\n",
              "      <th>cnt</th>\n",
              "    </tr>\n",
              "  </thead>\n",
              "  <tbody>\n",
              "    <tr>\n",
              "      <th>count</th>\n",
              "      <td>731.000000</td>\n",
              "      <td>731</td>\n",
              "      <td>731</td>\n",
              "      <td>731</td>\n",
              "      <td>731</td>\n",
              "      <td>731</td>\n",
              "      <td>731</td>\n",
              "      <td>731</td>\n",
              "      <td>731</td>\n",
              "      <td>731.000000</td>\n",
              "      <td>731.000000</td>\n",
              "      <td>731.000000</td>\n",
              "      <td>731.000000</td>\n",
              "      <td>731.000000</td>\n",
              "      <td>731.000000</td>\n",
              "      <td>731.000000</td>\n",
              "    </tr>\n",
              "    <tr>\n",
              "      <th>unique</th>\n",
              "      <td>NaN</td>\n",
              "      <td>NaN</td>\n",
              "      <td>4</td>\n",
              "      <td>2</td>\n",
              "      <td>12</td>\n",
              "      <td>2</td>\n",
              "      <td>7</td>\n",
              "      <td>2</td>\n",
              "      <td>3</td>\n",
              "      <td>NaN</td>\n",
              "      <td>NaN</td>\n",
              "      <td>NaN</td>\n",
              "      <td>NaN</td>\n",
              "      <td>NaN</td>\n",
              "      <td>NaN</td>\n",
              "      <td>NaN</td>\n",
              "    </tr>\n",
              "    <tr>\n",
              "      <th>top</th>\n",
              "      <td>NaN</td>\n",
              "      <td>NaN</td>\n",
              "      <td>Fall</td>\n",
              "      <td>2012</td>\n",
              "      <td>January</td>\n",
              "      <td>No</td>\n",
              "      <td>Saturday</td>\n",
              "      <td>Yes</td>\n",
              "      <td>Clear</td>\n",
              "      <td>NaN</td>\n",
              "      <td>NaN</td>\n",
              "      <td>NaN</td>\n",
              "      <td>NaN</td>\n",
              "      <td>NaN</td>\n",
              "      <td>NaN</td>\n",
              "      <td>NaN</td>\n",
              "    </tr>\n",
              "    <tr>\n",
              "      <th>freq</th>\n",
              "      <td>NaN</td>\n",
              "      <td>NaN</td>\n",
              "      <td>188</td>\n",
              "      <td>366</td>\n",
              "      <td>62</td>\n",
              "      <td>710</td>\n",
              "      <td>105</td>\n",
              "      <td>500</td>\n",
              "      <td>463</td>\n",
              "      <td>NaN</td>\n",
              "      <td>NaN</td>\n",
              "      <td>NaN</td>\n",
              "      <td>NaN</td>\n",
              "      <td>NaN</td>\n",
              "      <td>NaN</td>\n",
              "      <td>NaN</td>\n",
              "    </tr>\n",
              "    <tr>\n",
              "      <th>mean</th>\n",
              "      <td>366.000000</td>\n",
              "      <td>2012-01-01 00:00:00</td>\n",
              "      <td>NaN</td>\n",
              "      <td>NaN</td>\n",
              "      <td>NaN</td>\n",
              "      <td>NaN</td>\n",
              "      <td>NaN</td>\n",
              "      <td>NaN</td>\n",
              "      <td>NaN</td>\n",
              "      <td>0.495385</td>\n",
              "      <td>0.474354</td>\n",
              "      <td>0.627894</td>\n",
              "      <td>0.190486</td>\n",
              "      <td>848.176471</td>\n",
              "      <td>3656.172367</td>\n",
              "      <td>4504.348837</td>\n",
              "    </tr>\n",
              "    <tr>\n",
              "      <th>min</th>\n",
              "      <td>1.000000</td>\n",
              "      <td>2011-01-01 00:00:00</td>\n",
              "      <td>NaN</td>\n",
              "      <td>NaN</td>\n",
              "      <td>NaN</td>\n",
              "      <td>NaN</td>\n",
              "      <td>NaN</td>\n",
              "      <td>NaN</td>\n",
              "      <td>NaN</td>\n",
              "      <td>0.059130</td>\n",
              "      <td>0.079070</td>\n",
              "      <td>0.000000</td>\n",
              "      <td>0.022392</td>\n",
              "      <td>2.000000</td>\n",
              "      <td>20.000000</td>\n",
              "      <td>22.000000</td>\n",
              "    </tr>\n",
              "    <tr>\n",
              "      <th>25%</th>\n",
              "      <td>183.500000</td>\n",
              "      <td>2011-07-02 12:00:00</td>\n",
              "      <td>NaN</td>\n",
              "      <td>NaN</td>\n",
              "      <td>NaN</td>\n",
              "      <td>NaN</td>\n",
              "      <td>NaN</td>\n",
              "      <td>NaN</td>\n",
              "      <td>NaN</td>\n",
              "      <td>0.337083</td>\n",
              "      <td>0.337842</td>\n",
              "      <td>0.520000</td>\n",
              "      <td>0.134950</td>\n",
              "      <td>315.500000</td>\n",
              "      <td>2497.000000</td>\n",
              "      <td>3152.000000</td>\n",
              "    </tr>\n",
              "    <tr>\n",
              "      <th>50%</th>\n",
              "      <td>366.000000</td>\n",
              "      <td>2012-01-01 00:00:00</td>\n",
              "      <td>NaN</td>\n",
              "      <td>NaN</td>\n",
              "      <td>NaN</td>\n",
              "      <td>NaN</td>\n",
              "      <td>NaN</td>\n",
              "      <td>NaN</td>\n",
              "      <td>NaN</td>\n",
              "      <td>0.498333</td>\n",
              "      <td>0.486733</td>\n",
              "      <td>0.626667</td>\n",
              "      <td>0.180975</td>\n",
              "      <td>713.000000</td>\n",
              "      <td>3662.000000</td>\n",
              "      <td>4548.000000</td>\n",
              "    </tr>\n",
              "    <tr>\n",
              "      <th>75%</th>\n",
              "      <td>548.500000</td>\n",
              "      <td>2012-07-01 12:00:00</td>\n",
              "      <td>NaN</td>\n",
              "      <td>NaN</td>\n",
              "      <td>NaN</td>\n",
              "      <td>NaN</td>\n",
              "      <td>NaN</td>\n",
              "      <td>NaN</td>\n",
              "      <td>NaN</td>\n",
              "      <td>0.655417</td>\n",
              "      <td>0.608602</td>\n",
              "      <td>0.730209</td>\n",
              "      <td>0.233214</td>\n",
              "      <td>1096.000000</td>\n",
              "      <td>4776.500000</td>\n",
              "      <td>5956.000000</td>\n",
              "    </tr>\n",
              "    <tr>\n",
              "      <th>max</th>\n",
              "      <td>731.000000</td>\n",
              "      <td>2012-12-31 00:00:00</td>\n",
              "      <td>NaN</td>\n",
              "      <td>NaN</td>\n",
              "      <td>NaN</td>\n",
              "      <td>NaN</td>\n",
              "      <td>NaN</td>\n",
              "      <td>NaN</td>\n",
              "      <td>NaN</td>\n",
              "      <td>0.861667</td>\n",
              "      <td>0.840896</td>\n",
              "      <td>0.972500</td>\n",
              "      <td>0.507463</td>\n",
              "      <td>3410.000000</td>\n",
              "      <td>6946.000000</td>\n",
              "      <td>8714.000000</td>\n",
              "    </tr>\n",
              "    <tr>\n",
              "      <th>std</th>\n",
              "      <td>211.165812</td>\n",
              "      <td>NaN</td>\n",
              "      <td>NaN</td>\n",
              "      <td>NaN</td>\n",
              "      <td>NaN</td>\n",
              "      <td>NaN</td>\n",
              "      <td>NaN</td>\n",
              "      <td>NaN</td>\n",
              "      <td>NaN</td>\n",
              "      <td>0.183051</td>\n",
              "      <td>0.162961</td>\n",
              "      <td>0.142429</td>\n",
              "      <td>0.077498</td>\n",
              "      <td>686.622488</td>\n",
              "      <td>1560.256377</td>\n",
              "      <td>1937.211452</td>\n",
              "    </tr>\n",
              "  </tbody>\n",
              "</table>\n",
              "</div>"
            ],
            "text/plain": [
              "           instant               dteday season    yr     mnth holiday  \\\n",
              "count   731.000000                  731    731   731      731     731   \n",
              "unique         NaN                  NaN      4     2       12       2   \n",
              "top            NaN                  NaN   Fall  2012  January      No   \n",
              "freq           NaN                  NaN    188   366       62     710   \n",
              "mean    366.000000  2012-01-01 00:00:00    NaN   NaN      NaN     NaN   \n",
              "min       1.000000  2011-01-01 00:00:00    NaN   NaN      NaN     NaN   \n",
              "25%     183.500000  2011-07-02 12:00:00    NaN   NaN      NaN     NaN   \n",
              "50%     366.000000  2012-01-01 00:00:00    NaN   NaN      NaN     NaN   \n",
              "75%     548.500000  2012-07-01 12:00:00    NaN   NaN      NaN     NaN   \n",
              "max     731.000000  2012-12-31 00:00:00    NaN   NaN      NaN     NaN   \n",
              "std     211.165812                  NaN    NaN   NaN      NaN     NaN   \n",
              "\n",
              "         weekday workingday weathersit        temp       atemp         hum  \\\n",
              "count        731        731        731  731.000000  731.000000  731.000000   \n",
              "unique         7          2          3         NaN         NaN         NaN   \n",
              "top     Saturday        Yes      Clear         NaN         NaN         NaN   \n",
              "freq         105        500        463         NaN         NaN         NaN   \n",
              "mean         NaN        NaN        NaN    0.495385    0.474354    0.627894   \n",
              "min          NaN        NaN        NaN    0.059130    0.079070    0.000000   \n",
              "25%          NaN        NaN        NaN    0.337083    0.337842    0.520000   \n",
              "50%          NaN        NaN        NaN    0.498333    0.486733    0.626667   \n",
              "75%          NaN        NaN        NaN    0.655417    0.608602    0.730209   \n",
              "max          NaN        NaN        NaN    0.861667    0.840896    0.972500   \n",
              "std          NaN        NaN        NaN    0.183051    0.162961    0.142429   \n",
              "\n",
              "         windspeed       casual   registered          cnt  \n",
              "count   731.000000   731.000000   731.000000   731.000000  \n",
              "unique         NaN          NaN          NaN          NaN  \n",
              "top            NaN          NaN          NaN          NaN  \n",
              "freq           NaN          NaN          NaN          NaN  \n",
              "mean      0.190486   848.176471  3656.172367  4504.348837  \n",
              "min       0.022392     2.000000    20.000000    22.000000  \n",
              "25%       0.134950   315.500000  2497.000000  3152.000000  \n",
              "50%       0.180975   713.000000  3662.000000  4548.000000  \n",
              "75%       0.233214  1096.000000  4776.500000  5956.000000  \n",
              "max       0.507463  3410.000000  6946.000000  8714.000000  \n",
              "std       0.077498   686.622488  1560.256377  1937.211452  "
            ]
          },
          "execution_count": 32,
          "metadata": {},
          "output_type": "execute_result"
        }
      ],
      "source": [
        "day_data.describe(include=\"all\")"
      ]
    },
    {
      "cell_type": "markdown",
      "metadata": {
        "id": "96l-vQMbCtSz"
      },
      "source": [
        "Berdasarkan statistik deskriptif diatas, didapatkan bahwa pengguna lebih banyak menggunakan Bike Sharing pada musim gugur tahun 2012, di bulan Januari, hari Sabtu, pada hari kerja, dan cuaca yang cerah."
      ]
    },
    {
      "cell_type": "code",
      "execution_count": 33,
      "metadata": {
        "colab": {
          "base_uri": "https://localhost:8080/",
          "height": 488
        },
        "id": "God8-V_t9_P1",
        "outputId": "cbb4d433-66e3-4772-9569-d7c7f4384816"
      },
      "outputs": [
        {
          "data": {
            "text/html": [
              "<div>\n",
              "<style scoped>\n",
              "    .dataframe tbody tr th:only-of-type {\n",
              "        vertical-align: middle;\n",
              "    }\n",
              "\n",
              "    .dataframe tbody tr th {\n",
              "        vertical-align: top;\n",
              "    }\n",
              "\n",
              "    .dataframe thead tr th {\n",
              "        text-align: left;\n",
              "    }\n",
              "\n",
              "    .dataframe thead tr:last-of-type th {\n",
              "        text-align: right;\n",
              "    }\n",
              "</style>\n",
              "<table border=\"1\" class=\"dataframe\">\n",
              "  <thead>\n",
              "    <tr>\n",
              "      <th></th>\n",
              "      <th>instant</th>\n",
              "      <th>casual</th>\n",
              "      <th>registered</th>\n",
              "      <th colspan=\"4\" halign=\"left\">cnt</th>\n",
              "    </tr>\n",
              "    <tr>\n",
              "      <th></th>\n",
              "      <th>nunique</th>\n",
              "      <th>sum</th>\n",
              "      <th>sum</th>\n",
              "      <th>max</th>\n",
              "      <th>min</th>\n",
              "      <th>mean</th>\n",
              "      <th>sum</th>\n",
              "    </tr>\n",
              "    <tr>\n",
              "      <th>mnth</th>\n",
              "      <th></th>\n",
              "      <th></th>\n",
              "      <th></th>\n",
              "      <th></th>\n",
              "      <th></th>\n",
              "      <th></th>\n",
              "      <th></th>\n",
              "    </tr>\n",
              "  </thead>\n",
              "  <tbody>\n",
              "    <tr>\n",
              "      <th>April</th>\n",
              "      <td>60</td>\n",
              "      <td>60802</td>\n",
              "      <td>208292</td>\n",
              "      <td>7460</td>\n",
              "      <td>795</td>\n",
              "      <td>4484.900000</td>\n",
              "      <td>269094</td>\n",
              "    </tr>\n",
              "    <tr>\n",
              "      <th>August</th>\n",
              "      <td>62</td>\n",
              "      <td>72039</td>\n",
              "      <td>279155</td>\n",
              "      <td>7865</td>\n",
              "      <td>1115</td>\n",
              "      <td>5664.419355</td>\n",
              "      <td>351194</td>\n",
              "    </tr>\n",
              "    <tr>\n",
              "      <th>December</th>\n",
              "      <td>62</td>\n",
              "      <td>21693</td>\n",
              "      <td>189343</td>\n",
              "      <td>6606</td>\n",
              "      <td>441</td>\n",
              "      <td>3403.806452</td>\n",
              "      <td>211036</td>\n",
              "    </tr>\n",
              "    <tr>\n",
              "      <th>February</th>\n",
              "      <td>57</td>\n",
              "      <td>14963</td>\n",
              "      <td>136389</td>\n",
              "      <td>5062</td>\n",
              "      <td>1005</td>\n",
              "      <td>2655.298246</td>\n",
              "      <td>151352</td>\n",
              "    </tr>\n",
              "    <tr>\n",
              "      <th>January</th>\n",
              "      <td>62</td>\n",
              "      <td>12042</td>\n",
              "      <td>122891</td>\n",
              "      <td>4521</td>\n",
              "      <td>431</td>\n",
              "      <td>2176.338710</td>\n",
              "      <td>134933</td>\n",
              "    </tr>\n",
              "    <tr>\n",
              "      <th>July</th>\n",
              "      <td>62</td>\n",
              "      <td>78157</td>\n",
              "      <td>266791</td>\n",
              "      <td>8173</td>\n",
              "      <td>3285</td>\n",
              "      <td>5563.677419</td>\n",
              "      <td>344948</td>\n",
              "    </tr>\n",
              "    <tr>\n",
              "      <th>June</th>\n",
              "      <td>60</td>\n",
              "      <td>73906</td>\n",
              "      <td>272436</td>\n",
              "      <td>8120</td>\n",
              "      <td>3767</td>\n",
              "      <td>5772.366667</td>\n",
              "      <td>346342</td>\n",
              "    </tr>\n",
              "    <tr>\n",
              "      <th>March</th>\n",
              "      <td>62</td>\n",
              "      <td>44444</td>\n",
              "      <td>184476</td>\n",
              "      <td>8362</td>\n",
              "      <td>605</td>\n",
              "      <td>3692.258065</td>\n",
              "      <td>228920</td>\n",
              "    </tr>\n",
              "    <tr>\n",
              "      <th>May</th>\n",
              "      <td>62</td>\n",
              "      <td>75285</td>\n",
              "      <td>256401</td>\n",
              "      <td>8294</td>\n",
              "      <td>2633</td>\n",
              "      <td>5349.774194</td>\n",
              "      <td>331686</td>\n",
              "    </tr>\n",
              "    <tr>\n",
              "      <th>November</th>\n",
              "      <td>60</td>\n",
              "      <td>36603</td>\n",
              "      <td>218228</td>\n",
              "      <td>6852</td>\n",
              "      <td>1495</td>\n",
              "      <td>4247.183333</td>\n",
              "      <td>254831</td>\n",
              "    </tr>\n",
              "    <tr>\n",
              "      <th>October</th>\n",
              "      <td>62</td>\n",
              "      <td>59760</td>\n",
              "      <td>262592</td>\n",
              "      <td>8156</td>\n",
              "      <td>22</td>\n",
              "      <td>5199.225806</td>\n",
              "      <td>322352</td>\n",
              "    </tr>\n",
              "    <tr>\n",
              "      <th>September</th>\n",
              "      <td>60</td>\n",
              "      <td>70323</td>\n",
              "      <td>275668</td>\n",
              "      <td>8714</td>\n",
              "      <td>1842</td>\n",
              "      <td>5766.516667</td>\n",
              "      <td>345991</td>\n",
              "    </tr>\n",
              "  </tbody>\n",
              "</table>\n",
              "</div>"
            ],
            "text/plain": [
              "          instant casual registered   cnt                           \n",
              "          nunique    sum        sum   max   min         mean     sum\n",
              "mnth                                                                \n",
              "April          60  60802     208292  7460   795  4484.900000  269094\n",
              "August         62  72039     279155  7865  1115  5664.419355  351194\n",
              "December       62  21693     189343  6606   441  3403.806452  211036\n",
              "February       57  14963     136389  5062  1005  2655.298246  151352\n",
              "January        62  12042     122891  4521   431  2176.338710  134933\n",
              "July           62  78157     266791  8173  3285  5563.677419  344948\n",
              "June           60  73906     272436  8120  3767  5772.366667  346342\n",
              "March          62  44444     184476  8362   605  3692.258065  228920\n",
              "May            62  75285     256401  8294  2633  5349.774194  331686\n",
              "November       60  36603     218228  6852  1495  4247.183333  254831\n",
              "October        62  59760     262592  8156    22  5199.225806  322352\n",
              "September      60  70323     275668  8714  1842  5766.516667  345991"
            ]
          },
          "execution_count": 33,
          "metadata": {},
          "output_type": "execute_result"
        }
      ],
      "source": [
        "day_data.groupby(by=\"mnth\").agg({\n",
        "    \"instant\": \"nunique\",\n",
        "    \"casual\": \"sum\",\n",
        "    \"registered\": \"sum\",\n",
        "    \"cnt\": [\"max\", \"min\", \"mean\", \"sum\"]\n",
        "})"
      ]
    },
    {
      "cell_type": "markdown",
      "metadata": {
        "id": "rTQ8JT4pEjdc"
      },
      "source": [
        "\n",
        "Berdasarkan pivot table di atas, dapat diketahui bahwa jumlah sewa sepeda (cnt) paling tinggi terjadi pada bulan-bulan seperti Agustus, Juni, Juli, dan September. Rata-rata sewa sepeda (mean) tertinggi terjadi pada bulan Juni dan September, yaitu sekitar 5772 hingga 5766 sewa. Selain itu, distribusi jumlah sewa sepeda di berbagai bulan menunjukkan kecenderungan tinggi pada bulan-bulan musim panas seperti Juni, Juli, Agustus, dan September, sementara bulan-bulan lainnya seperti Desember dan Januari memiliki jumlah sewa yang lebih rendah."
      ]
    },
    {
      "cell_type": "code",
      "execution_count": 34,
      "metadata": {
        "colab": {
          "base_uri": "https://localhost:8080/",
          "height": 331
        },
        "id": "LCux2C7CH8kW",
        "outputId": "85ae8125-b600-4f7e-e91a-fe22cf8df234"
      },
      "outputs": [
        {
          "data": {
            "text/html": [
              "<div>\n",
              "<style scoped>\n",
              "    .dataframe tbody tr th:only-of-type {\n",
              "        vertical-align: middle;\n",
              "    }\n",
              "\n",
              "    .dataframe tbody tr th {\n",
              "        vertical-align: top;\n",
              "    }\n",
              "\n",
              "    .dataframe thead th {\n",
              "        text-align: right;\n",
              "    }\n",
              "</style>\n",
              "<table border=\"1\" class=\"dataframe\">\n",
              "  <thead>\n",
              "    <tr style=\"text-align: right;\">\n",
              "      <th></th>\n",
              "      <th></th>\n",
              "      <th>casual</th>\n",
              "      <th>registered</th>\n",
              "    </tr>\n",
              "    <tr>\n",
              "      <th>yr</th>\n",
              "      <th>season</th>\n",
              "      <th></th>\n",
              "      <th></th>\n",
              "    </tr>\n",
              "  </thead>\n",
              "  <tbody>\n",
              "    <tr>\n",
              "      <th rowspan=\"4\" valign=\"top\">2011</th>\n",
              "      <th>Fall</th>\n",
              "      <td>95450</td>\n",
              "      <td>324200</td>\n",
              "    </tr>\n",
              "    <tr>\n",
              "      <th>Spring</th>\n",
              "      <td>21425</td>\n",
              "      <td>128575</td>\n",
              "    </tr>\n",
              "    <tr>\n",
              "      <th>Summer</th>\n",
              "      <td>77564</td>\n",
              "      <td>269752</td>\n",
              "    </tr>\n",
              "    <tr>\n",
              "      <th>Winter</th>\n",
              "      <td>52813</td>\n",
              "      <td>273324</td>\n",
              "    </tr>\n",
              "    <tr>\n",
              "      <th rowspan=\"4\" valign=\"top\">2012</th>\n",
              "      <th>Fall</th>\n",
              "      <td>130641</td>\n",
              "      <td>510838</td>\n",
              "    </tr>\n",
              "    <tr>\n",
              "      <th>Spring</th>\n",
              "      <td>39197</td>\n",
              "      <td>282151</td>\n",
              "    </tr>\n",
              "    <tr>\n",
              "      <th>Summer</th>\n",
              "      <td>125958</td>\n",
              "      <td>445315</td>\n",
              "    </tr>\n",
              "    <tr>\n",
              "      <th>Winter</th>\n",
              "      <td>76969</td>\n",
              "      <td>438507</td>\n",
              "    </tr>\n",
              "  </tbody>\n",
              "</table>\n",
              "</div>"
            ],
            "text/plain": [
              "             casual  registered\n",
              "yr   season                    \n",
              "2011 Fall     95450      324200\n",
              "     Spring   21425      128575\n",
              "     Summer   77564      269752\n",
              "     Winter   52813      273324\n",
              "2012 Fall    130641      510838\n",
              "     Spring   39197      282151\n",
              "     Summer  125958      445315\n",
              "     Winter   76969      438507"
            ]
          },
          "execution_count": 34,
          "metadata": {},
          "output_type": "execute_result"
        }
      ],
      "source": [
        "# Mengelompokan day_data berdasarkan kolom season pertahunnya lalu menghitung jumlah nilai pada kolom registered dan casual\n",
        "day_data.groupby(by=[\"yr\", \"season\"]).agg({\n",
        "    \"casual\": \"sum\",\n",
        "    \"registered\": \"sum\"\n",
        "})"
      ]
    },
    {
      "cell_type": "markdown",
      "metadata": {
        "id": "f--RUZZgK3Cb"
      },
      "source": [
        "\n",
        "Tabel di atas menunjukkan jumlah sewa sepeda untuk pengguna casual dan registered berdasarkan tahun (2011 dan 2012) dan musim (Fall, Spring, Summer, Winter). Pada tahun 2012, jumlah sewa sepeda untuk kedua kategori meningkat signifikan dibandingkan tahun 2011, terutama pada musim gugur dan musim panas."
      ]
    },
    {
      "cell_type": "markdown",
      "metadata": {
        "id": "_F5TjcEC6uBC"
      },
      "source": [
        "#### **hour_data**"
      ]
    },
    {
      "cell_type": "code",
      "execution_count": 35,
      "metadata": {
        "colab": {
          "base_uri": "https://localhost:8080/",
          "height": 622
        },
        "id": "kV5Yh3tE6zo_",
        "outputId": "8b7a5ef6-8c30-4aa3-fde5-d6a122e1cd94"
      },
      "outputs": [
        {
          "data": {
            "text/html": [
              "<div>\n",
              "<style scoped>\n",
              "    .dataframe tbody tr th:only-of-type {\n",
              "        vertical-align: middle;\n",
              "    }\n",
              "\n",
              "    .dataframe tbody tr th {\n",
              "        vertical-align: top;\n",
              "    }\n",
              "\n",
              "    .dataframe thead th {\n",
              "        text-align: right;\n",
              "    }\n",
              "</style>\n",
              "<table border=\"1\" class=\"dataframe\">\n",
              "  <thead>\n",
              "    <tr style=\"text-align: right;\">\n",
              "      <th></th>\n",
              "      <th>instant</th>\n",
              "      <th>dteday</th>\n",
              "      <th>season</th>\n",
              "      <th>yr</th>\n",
              "      <th>mnth</th>\n",
              "      <th>hr</th>\n",
              "      <th>holiday</th>\n",
              "      <th>weekday</th>\n",
              "      <th>workingday</th>\n",
              "      <th>weathersit</th>\n",
              "      <th>temp</th>\n",
              "      <th>atemp</th>\n",
              "      <th>hum</th>\n",
              "      <th>windspeed</th>\n",
              "      <th>casual</th>\n",
              "      <th>registered</th>\n",
              "      <th>cnt</th>\n",
              "    </tr>\n",
              "  </thead>\n",
              "  <tbody>\n",
              "    <tr>\n",
              "      <th>count</th>\n",
              "      <td>17379.0000</td>\n",
              "      <td>731</td>\n",
              "      <td>17379</td>\n",
              "      <td>17379</td>\n",
              "      <td>17379</td>\n",
              "      <td>17379.000000</td>\n",
              "      <td>17379</td>\n",
              "      <td>17379</td>\n",
              "      <td>17379</td>\n",
              "      <td>17379</td>\n",
              "      <td>17379.000000</td>\n",
              "      <td>17379.000000</td>\n",
              "      <td>17379.000000</td>\n",
              "      <td>17379.000000</td>\n",
              "      <td>17379.000000</td>\n",
              "      <td>17379.000000</td>\n",
              "      <td>17379.000000</td>\n",
              "    </tr>\n",
              "    <tr>\n",
              "      <th>unique</th>\n",
              "      <td>NaN</td>\n",
              "      <td>NaN</td>\n",
              "      <td>4</td>\n",
              "      <td>2</td>\n",
              "      <td>12</td>\n",
              "      <td>NaN</td>\n",
              "      <td>2</td>\n",
              "      <td>7</td>\n",
              "      <td>2</td>\n",
              "      <td>4</td>\n",
              "      <td>NaN</td>\n",
              "      <td>NaN</td>\n",
              "      <td>NaN</td>\n",
              "      <td>NaN</td>\n",
              "      <td>NaN</td>\n",
              "      <td>NaN</td>\n",
              "      <td>NaN</td>\n",
              "    </tr>\n",
              "    <tr>\n",
              "      <th>top</th>\n",
              "      <td>NaN</td>\n",
              "      <td>NaN</td>\n",
              "      <td>Fall</td>\n",
              "      <td>2012</td>\n",
              "      <td>July</td>\n",
              "      <td>NaN</td>\n",
              "      <td>No</td>\n",
              "      <td>Saturday</td>\n",
              "      <td>Yes</td>\n",
              "      <td>Clear</td>\n",
              "      <td>NaN</td>\n",
              "      <td>NaN</td>\n",
              "      <td>NaN</td>\n",
              "      <td>NaN</td>\n",
              "      <td>NaN</td>\n",
              "      <td>NaN</td>\n",
              "      <td>NaN</td>\n",
              "    </tr>\n",
              "    <tr>\n",
              "      <th>freq</th>\n",
              "      <td>NaN</td>\n",
              "      <td>NaN</td>\n",
              "      <td>4496</td>\n",
              "      <td>8734</td>\n",
              "      <td>1488</td>\n",
              "      <td>NaN</td>\n",
              "      <td>16879</td>\n",
              "      <td>2512</td>\n",
              "      <td>11865</td>\n",
              "      <td>11413</td>\n",
              "      <td>NaN</td>\n",
              "      <td>NaN</td>\n",
              "      <td>NaN</td>\n",
              "      <td>NaN</td>\n",
              "      <td>NaN</td>\n",
              "      <td>NaN</td>\n",
              "      <td>NaN</td>\n",
              "    </tr>\n",
              "    <tr>\n",
              "      <th>mean</th>\n",
              "      <td>8690.0000</td>\n",
              "      <td>2012-01-01 00:00:00</td>\n",
              "      <td>NaN</td>\n",
              "      <td>NaN</td>\n",
              "      <td>NaN</td>\n",
              "      <td>11.546752</td>\n",
              "      <td>NaN</td>\n",
              "      <td>NaN</td>\n",
              "      <td>NaN</td>\n",
              "      <td>NaN</td>\n",
              "      <td>0.496987</td>\n",
              "      <td>0.475775</td>\n",
              "      <td>0.627229</td>\n",
              "      <td>0.190098</td>\n",
              "      <td>35.676218</td>\n",
              "      <td>153.786869</td>\n",
              "      <td>189.463088</td>\n",
              "    </tr>\n",
              "    <tr>\n",
              "      <th>min</th>\n",
              "      <td>1.0000</td>\n",
              "      <td>2011-01-01 00:00:00</td>\n",
              "      <td>NaN</td>\n",
              "      <td>NaN</td>\n",
              "      <td>NaN</td>\n",
              "      <td>0.000000</td>\n",
              "      <td>NaN</td>\n",
              "      <td>NaN</td>\n",
              "      <td>NaN</td>\n",
              "      <td>NaN</td>\n",
              "      <td>0.020000</td>\n",
              "      <td>0.000000</td>\n",
              "      <td>0.000000</td>\n",
              "      <td>0.000000</td>\n",
              "      <td>0.000000</td>\n",
              "      <td>0.000000</td>\n",
              "      <td>1.000000</td>\n",
              "    </tr>\n",
              "    <tr>\n",
              "      <th>25%</th>\n",
              "      <td>4345.5000</td>\n",
              "      <td>2011-07-02 12:00:00</td>\n",
              "      <td>NaN</td>\n",
              "      <td>NaN</td>\n",
              "      <td>NaN</td>\n",
              "      <td>6.000000</td>\n",
              "      <td>NaN</td>\n",
              "      <td>NaN</td>\n",
              "      <td>NaN</td>\n",
              "      <td>NaN</td>\n",
              "      <td>0.340000</td>\n",
              "      <td>0.333300</td>\n",
              "      <td>0.480000</td>\n",
              "      <td>0.104500</td>\n",
              "      <td>4.000000</td>\n",
              "      <td>34.000000</td>\n",
              "      <td>40.000000</td>\n",
              "    </tr>\n",
              "    <tr>\n",
              "      <th>50%</th>\n",
              "      <td>8690.0000</td>\n",
              "      <td>2012-01-01 00:00:00</td>\n",
              "      <td>NaN</td>\n",
              "      <td>NaN</td>\n",
              "      <td>NaN</td>\n",
              "      <td>12.000000</td>\n",
              "      <td>NaN</td>\n",
              "      <td>NaN</td>\n",
              "      <td>NaN</td>\n",
              "      <td>NaN</td>\n",
              "      <td>0.500000</td>\n",
              "      <td>0.484800</td>\n",
              "      <td>0.630000</td>\n",
              "      <td>0.194000</td>\n",
              "      <td>17.000000</td>\n",
              "      <td>115.000000</td>\n",
              "      <td>142.000000</td>\n",
              "    </tr>\n",
              "    <tr>\n",
              "      <th>75%</th>\n",
              "      <td>13034.5000</td>\n",
              "      <td>2012-07-01 12:00:00</td>\n",
              "      <td>NaN</td>\n",
              "      <td>NaN</td>\n",
              "      <td>NaN</td>\n",
              "      <td>18.000000</td>\n",
              "      <td>NaN</td>\n",
              "      <td>NaN</td>\n",
              "      <td>NaN</td>\n",
              "      <td>NaN</td>\n",
              "      <td>0.660000</td>\n",
              "      <td>0.621200</td>\n",
              "      <td>0.780000</td>\n",
              "      <td>0.253700</td>\n",
              "      <td>48.000000</td>\n",
              "      <td>220.000000</td>\n",
              "      <td>281.000000</td>\n",
              "    </tr>\n",
              "    <tr>\n",
              "      <th>max</th>\n",
              "      <td>17379.0000</td>\n",
              "      <td>2012-12-31 00:00:00</td>\n",
              "      <td>NaN</td>\n",
              "      <td>NaN</td>\n",
              "      <td>NaN</td>\n",
              "      <td>23.000000</td>\n",
              "      <td>NaN</td>\n",
              "      <td>NaN</td>\n",
              "      <td>NaN</td>\n",
              "      <td>NaN</td>\n",
              "      <td>1.000000</td>\n",
              "      <td>1.000000</td>\n",
              "      <td>1.000000</td>\n",
              "      <td>0.850700</td>\n",
              "      <td>367.000000</td>\n",
              "      <td>886.000000</td>\n",
              "      <td>977.000000</td>\n",
              "    </tr>\n",
              "    <tr>\n",
              "      <th>std</th>\n",
              "      <td>5017.0295</td>\n",
              "      <td>NaN</td>\n",
              "      <td>NaN</td>\n",
              "      <td>NaN</td>\n",
              "      <td>NaN</td>\n",
              "      <td>6.914405</td>\n",
              "      <td>NaN</td>\n",
              "      <td>NaN</td>\n",
              "      <td>NaN</td>\n",
              "      <td>NaN</td>\n",
              "      <td>0.192556</td>\n",
              "      <td>0.171850</td>\n",
              "      <td>0.192930</td>\n",
              "      <td>0.122340</td>\n",
              "      <td>49.305030</td>\n",
              "      <td>151.357286</td>\n",
              "      <td>181.387599</td>\n",
              "    </tr>\n",
              "  </tbody>\n",
              "</table>\n",
              "</div>"
            ],
            "text/plain": [
              "           instant               dteday season     yr   mnth            hr  \\\n",
              "count   17379.0000                  731  17379  17379  17379  17379.000000   \n",
              "unique         NaN                  NaN      4      2     12           NaN   \n",
              "top            NaN                  NaN   Fall   2012   July           NaN   \n",
              "freq           NaN                  NaN   4496   8734   1488           NaN   \n",
              "mean     8690.0000  2012-01-01 00:00:00    NaN    NaN    NaN     11.546752   \n",
              "min         1.0000  2011-01-01 00:00:00    NaN    NaN    NaN      0.000000   \n",
              "25%      4345.5000  2011-07-02 12:00:00    NaN    NaN    NaN      6.000000   \n",
              "50%      8690.0000  2012-01-01 00:00:00    NaN    NaN    NaN     12.000000   \n",
              "75%     13034.5000  2012-07-01 12:00:00    NaN    NaN    NaN     18.000000   \n",
              "max     17379.0000  2012-12-31 00:00:00    NaN    NaN    NaN     23.000000   \n",
              "std      5017.0295                  NaN    NaN    NaN    NaN      6.914405   \n",
              "\n",
              "       holiday   weekday workingday weathersit          temp         atemp  \\\n",
              "count    17379     17379      17379      17379  17379.000000  17379.000000   \n",
              "unique       2         7          2          4           NaN           NaN   \n",
              "top         No  Saturday        Yes      Clear           NaN           NaN   \n",
              "freq     16879      2512      11865      11413           NaN           NaN   \n",
              "mean       NaN       NaN        NaN        NaN      0.496987      0.475775   \n",
              "min        NaN       NaN        NaN        NaN      0.020000      0.000000   \n",
              "25%        NaN       NaN        NaN        NaN      0.340000      0.333300   \n",
              "50%        NaN       NaN        NaN        NaN      0.500000      0.484800   \n",
              "75%        NaN       NaN        NaN        NaN      0.660000      0.621200   \n",
              "max        NaN       NaN        NaN        NaN      1.000000      1.000000   \n",
              "std        NaN       NaN        NaN        NaN      0.192556      0.171850   \n",
              "\n",
              "                 hum     windspeed        casual    registered           cnt  \n",
              "count   17379.000000  17379.000000  17379.000000  17379.000000  17379.000000  \n",
              "unique           NaN           NaN           NaN           NaN           NaN  \n",
              "top              NaN           NaN           NaN           NaN           NaN  \n",
              "freq             NaN           NaN           NaN           NaN           NaN  \n",
              "mean        0.627229      0.190098     35.676218    153.786869    189.463088  \n",
              "min         0.000000      0.000000      0.000000      0.000000      1.000000  \n",
              "25%         0.480000      0.104500      4.000000     34.000000     40.000000  \n",
              "50%         0.630000      0.194000     17.000000    115.000000    142.000000  \n",
              "75%         0.780000      0.253700     48.000000    220.000000    281.000000  \n",
              "max         1.000000      0.850700    367.000000    886.000000    977.000000  \n",
              "std         0.192930      0.122340     49.305030    151.357286    181.387599  "
            ]
          },
          "execution_count": 35,
          "metadata": {},
          "output_type": "execute_result"
        }
      ],
      "source": [
        "hour_data.describe(include=\"all\")"
      ]
    },
    {
      "cell_type": "code",
      "execution_count": 36,
      "metadata": {
        "colab": {
          "base_uri": "https://localhost:8080/",
          "height": 300
        },
        "id": "046mV1Ia9_uP",
        "outputId": "af797cb3-d40a-47b8-d589-d1d6c19f0d94"
      },
      "outputs": [
        {
          "data": {
            "text/html": [
              "<div>\n",
              "<style scoped>\n",
              "    .dataframe tbody tr th:only-of-type {\n",
              "        vertical-align: middle;\n",
              "    }\n",
              "\n",
              "    .dataframe tbody tr th {\n",
              "        vertical-align: top;\n",
              "    }\n",
              "\n",
              "    .dataframe thead th {\n",
              "        text-align: right;\n",
              "    }\n",
              "</style>\n",
              "<table border=\"1\" class=\"dataframe\">\n",
              "  <thead>\n",
              "    <tr style=\"text-align: right;\">\n",
              "      <th></th>\n",
              "      <th>casual</th>\n",
              "      <th>registered</th>\n",
              "    </tr>\n",
              "    <tr>\n",
              "      <th>weekday</th>\n",
              "      <th></th>\n",
              "      <th></th>\n",
              "    </tr>\n",
              "  </thead>\n",
              "  <tbody>\n",
              "    <tr>\n",
              "      <th>Friday</th>\n",
              "      <td>78238</td>\n",
              "      <td>409552</td>\n",
              "    </tr>\n",
              "    <tr>\n",
              "      <th>Monday</th>\n",
              "      <td>70784</td>\n",
              "      <td>384719</td>\n",
              "    </tr>\n",
              "    <tr>\n",
              "      <th>Saturday</th>\n",
              "      <td>153852</td>\n",
              "      <td>323955</td>\n",
              "    </tr>\n",
              "    <tr>\n",
              "      <th>Sunday</th>\n",
              "      <td>140521</td>\n",
              "      <td>303506</td>\n",
              "    </tr>\n",
              "    <tr>\n",
              "      <th>Thursday</th>\n",
              "      <td>61460</td>\n",
              "      <td>423935</td>\n",
              "    </tr>\n",
              "    <tr>\n",
              "      <th>Tuesday</th>\n",
              "      <td>57843</td>\n",
              "      <td>411266</td>\n",
              "    </tr>\n",
              "    <tr>\n",
              "      <th>Wednesday</th>\n",
              "      <td>57319</td>\n",
              "      <td>415729</td>\n",
              "    </tr>\n",
              "  </tbody>\n",
              "</table>\n",
              "</div>"
            ],
            "text/plain": [
              "           casual  registered\n",
              "weekday                      \n",
              "Friday      78238      409552\n",
              "Monday      70784      384719\n",
              "Saturday   153852      323955\n",
              "Sunday     140521      303506\n",
              "Thursday    61460      423935\n",
              "Tuesday     57843      411266\n",
              "Wednesday   57319      415729"
            ]
          },
          "execution_count": 36,
          "metadata": {},
          "output_type": "execute_result"
        }
      ],
      "source": [
        "# Kelompokan pengguna kasual dan register berdasarkan weekday\n",
        "hour_data.groupby(by=\"weekday\").agg({\n",
        "    \"casual\": \"sum\",\n",
        "    \"registered\": \"sum\"\n",
        "})"
      ]
    },
    {
      "cell_type": "code",
      "execution_count": 37,
      "metadata": {
        "colab": {
          "base_uri": "https://localhost:8080/",
          "height": 206
        },
        "id": "YhttUvUDNmRs",
        "outputId": "86a41776-3304-4918-f0e2-39f28dabaf1e"
      },
      "outputs": [
        {
          "data": {
            "text/html": [
              "<div>\n",
              "<style scoped>\n",
              "    .dataframe tbody tr th:only-of-type {\n",
              "        vertical-align: middle;\n",
              "    }\n",
              "\n",
              "    .dataframe tbody tr th {\n",
              "        vertical-align: top;\n",
              "    }\n",
              "\n",
              "    .dataframe thead tr th {\n",
              "        text-align: left;\n",
              "    }\n",
              "\n",
              "    .dataframe thead tr:last-of-type th {\n",
              "        text-align: right;\n",
              "    }\n",
              "</style>\n",
              "<table border=\"1\" class=\"dataframe\">\n",
              "  <thead>\n",
              "    <tr>\n",
              "      <th></th>\n",
              "      <th></th>\n",
              "      <th>casual</th>\n",
              "      <th>registered</th>\n",
              "      <th colspan=\"2\" halign=\"left\">cnt</th>\n",
              "    </tr>\n",
              "    <tr>\n",
              "      <th></th>\n",
              "      <th></th>\n",
              "      <th>sum</th>\n",
              "      <th>sum</th>\n",
              "      <th>sum</th>\n",
              "      <th>mean</th>\n",
              "    </tr>\n",
              "    <tr>\n",
              "      <th>workingday</th>\n",
              "      <th>holiday</th>\n",
              "      <th></th>\n",
              "      <th></th>\n",
              "      <th></th>\n",
              "      <th></th>\n",
              "    </tr>\n",
              "  </thead>\n",
              "  <tbody>\n",
              "    <tr>\n",
              "      <th rowspan=\"2\" valign=\"top\">No</th>\n",
              "      <th>No</th>\n",
              "      <td>294373</td>\n",
              "      <td>627461</td>\n",
              "      <td>921834</td>\n",
              "      <td>183.852014</td>\n",
              "    </tr>\n",
              "    <tr>\n",
              "      <th>Yes</th>\n",
              "      <td>22359</td>\n",
              "      <td>56076</td>\n",
              "      <td>78435</td>\n",
              "      <td>156.870000</td>\n",
              "    </tr>\n",
              "    <tr>\n",
              "      <th>Yes</th>\n",
              "      <th>No</th>\n",
              "      <td>303285</td>\n",
              "      <td>1989125</td>\n",
              "      <td>2292410</td>\n",
              "      <td>193.207754</td>\n",
              "    </tr>\n",
              "  </tbody>\n",
              "</table>\n",
              "</div>"
            ],
            "text/plain": [
              "                    casual registered      cnt            \n",
              "                       sum        sum      sum        mean\n",
              "workingday holiday                                        \n",
              "No         No       294373     627461   921834  183.852014\n",
              "           Yes       22359      56076    78435  156.870000\n",
              "Yes        No       303285    1989125  2292410  193.207754"
            ]
          },
          "execution_count": 37,
          "metadata": {},
          "output_type": "execute_result"
        }
      ],
      "source": [
        "# Mengelompokan jumlah pengguna berdasarkan workingday dan holiday\n",
        "hour_data.groupby(by=[\"workingday\", \"holiday\"]).agg({\n",
        "    \"casual\": \"sum\",\n",
        "    \"registered\": \"sum\",\n",
        "    \"cnt\": [\"sum\", \"mean\"]\n",
        "})"
      ]
    },
    {
      "cell_type": "markdown",
      "metadata": {
        "id": "TkS_UZmSM50o"
      },
      "source": [
        "Tabel di atas menunjukkan jumlah total sewa sepeda (cnt) untuk kategori kasual (casual) dan terdaftar (registered) berdasarkan status hari kerja (workingday) dan libur (holiday). Secara keseluruhan, sewa sepeda lebih tinggi pada hari kerja (Yes, No) dengan rata-rata sewa tertinggi mencapai 193.21, sementara hari libur (No, No) memiliki rata-rata yang lebih rendah."
      ]
    },
    {
      "cell_type": "markdown",
      "metadata": {
        "id": "zsyZjqak8DC2"
      },
      "source": [
        "## Visualization & Explanatory Analysis"
      ]
    },
    {
      "cell_type": "markdown",
      "metadata": {
        "id": "ymbWOV0y9pkM"
      },
      "source": [
        "### Pertanyaan 1: Bagaimana distribusi casual user dan registered user saat hari kerja?"
      ]
    },
    {
      "cell_type": "code",
      "execution_count": 38,
      "metadata": {
        "colab": {
          "base_uri": "https://localhost:8080/",
          "height": 607
        },
        "id": "7X4T7VZ5YiF4",
        "outputId": "8dfbb319-969e-464e-ed71-3eed9caf1ba2"
      },
      "outputs": [
        {
          "data": {
            "image/png": "[encoded data removed]",
            "text/plain": [
              "<Figure size 1000x600 with 1 Axes>"
            ]
          },
          "metadata": {},
          "output_type": "display_data"
        }
      ],
      "source": [
        "season_usage = day_data.groupby(['weekday'])[['casual', 'registered']].sum()\n",
        "season_usage.plot(kind='bar', figsize=(10, 6))\n",
        "plt.xlabel('Weekday')\n",
        "plt.ylabel('Total Rentals')\n",
        "plt.tight_layout()\n",
        "plt.show()"
      ]
    },
    {
      "cell_type": "markdown",
      "metadata": {
        "id": "wl2LICde2XeT"
      },
      "source": [
        "Didapatkan bahwa jumlah registered user jauh melebihi casual user yang menggunakan sepeda pada hari kerja (weekday). Ini mungkin terjadi karena registered user memiliki kebutuhan rutin dan berlangganan menggunakan Bike Sharing ini. Perbedaan signifikan ini dapat memberikan wawasan tentang kebiasaan penggunaan sepeda antara casual dan registered user pada hari kerja."
      ]
    },
    {
      "cell_type": "markdown",
      "metadata": {
        "id": "J682z36n9xjM"
      },
      "source": [
        "### Pertanyaan 2: Apakah jumlah casual user dan registered meningkat selama bulan tertentu dibandingkan dengan bulan lainnya?"
      ]
    },
    {
      "cell_type": "code",
      "execution_count": 39,
      "metadata": {
        "colab": {
          "base_uri": "https://localhost:8080/",
          "height": 607
        },
        "id": "8gnwXJVq_eL4",
        "outputId": "f63db504-0b0b-4dfb-a1fa-db0f4ec2f2d0"
      },
      "outputs": [
        {
          "data": {
            "image/png": "[encoded data removed]",
            "text/plain": [
              "<Figure size 1000x600 with 1 Axes>"
            ]
          },
          "metadata": {},
          "output_type": "display_data"
        }
      ],
      "source": [
        "monthly_casual_usage = day_data.groupby('mnth')['casual'].sum()\n",
        "monthly_registered_usage = day_data.groupby('mnth')['registered'].sum()\n",
        "\n",
        "plt.figure(figsize=(10, 6))\n",
        "# Plot for Casual Users\n",
        "monthly_casual_usage.plot(kind='line', marker='o', label='Casual Users', color='blue')\n",
        "# Plot for Registered Users\n",
        "monthly_registered_usage.plot(kind='line', marker='o', label='Registered Users', color='orange')\n",
        "\n",
        "# Customizing the plot\n",
        "plt.title('Total Casual and Registered Users per Month')\n",
        "plt.xlabel('Month')\n",
        "plt.ylabel('Total Users')\n",
        "plt.xticks(ticks=range(1, 13), labels=['Jan', 'Feb', 'Mar', 'Apr', 'May', 'Jun', 'Jul', 'Aug', 'Sep', 'Oct', 'Nov', 'Dec'])\n",
        "plt.legend()\n",
        "plt.grid(True)\n",
        "plt.tight_layout()\n",
        "\n",
        "# Show the plot\n",
        "plt.show()\n"
      ]
    },
    {
      "cell_type": "markdown",
      "metadata": {
        "id": "K_rvlJfCIqRe"
      },
      "source": [
        "Terlihat bahwa jumlah registered user lebih tinggi dibandingkan casual user dengan puncak tertinggi terjadi pada bulan Januari. Pola fluktuasi kedua jenis pengguna cenderung mirip, di mana terjadi penurunan signifikan dari Januari hingga April, kemudian meningkat kembali pada Mei, dan berfluktuasi relatif stabil hingga akhir tahun."
      ]
    },
    {
      "cell_type": "markdown",
      "metadata": {
        "id": "mA_unZkBgUyg"
      },
      "source": [
        "### Pertanyaan 3: Apakah terdapat jam tertentu dengan penggunaan sepeda tertinggi dan terendah?"
      ]
    },
    {
      "cell_type": "code",
      "execution_count": 40,
      "metadata": {
        "colab": {
          "base_uri": "https://localhost:8080/",
          "height": 568
        },
        "id": "vj3_riyPMlG0",
        "outputId": "1e2b6ed6-7d20-45c0-85e4-01b9a51cd819"
      },
      "outputs": [
        {
          "data": {
            "image/png": "[encoded data removed]",
            "text/plain": [
              "<Figure size 1000x600 with 1 Axes>"
            ]
          },
          "metadata": {},
          "output_type": "display_data"
        }
      ],
      "source": [
        "# Grouping by hour and summing up casual and registered rentals\n",
        "hourly_split = hour_data.groupby('hr')[['casual', 'registered']].sum()\n",
        "\n",
        "# Plotting stacked bar chart\n",
        "hourly_split.plot(kind='bar', stacked=True, figsize=(10, 6))\n",
        "plt.title('Casual and Registered Bike Rentals by Hour')\n",
        "plt.xlabel('Hour of the Day')\n",
        "plt.ylabel('Total Rentals')\n",
        "plt.legend(title='User Type')\n",
        "plt.grid(True)\n",
        "plt.show()"
      ]
    },
    {
      "cell_type": "markdown",
      "metadata": {
        "id": "7xVFgYx92YnL"
      },
      "source": [
        "Penggunaan sepeda tertinggi terjadi pada jam 17 (5 sore), dimana sebagian besar adalah registered user. Penggunaan sepeda terendah terjadi pada jam 4 pagi. Ini menunjukkan aktivitas yang sangat minimal di waktu dini hari."
      ]
    },
    {
      "cell_type": "markdown",
      "metadata": {
        "id": "9y4VUsmcYNZ5"
      },
      "source": [
        "## Analisis Lanjutan (Opsional)"
      ]
    },
    {
      "cell_type": "code",
      "execution_count": 41,
      "metadata": {
        "colab": {
          "base_uri": "https://localhost:8080/"
        },
        "id": "iWhnzsJGYUCO",
        "outputId": "ba89112a-be2c-4996-aaff-124659448ce9"
      },
      "outputs": [
        {
          "name": "stdout",
          "output_type": "stream",
          "text": [
            "\n",
            "DAILY DATA CLUSTERS\n",
            "--------------------------------------------------\n",
            "\n",
            "SEASON BASED CLUSTERING:\n",
            "         casual  registered      cnt\n",
            "season                              \n",
            "Fall    1202.61     4441.69  5644.30\n",
            "Spring   334.93     2269.20  2604.13\n",
            "Summer  1106.10     3886.23  4992.33\n",
            "Winter   729.11     3999.05  4728.16\n",
            "--------------------------------------------------\n",
            "\n",
            "WEATHER BASED CLUSTERING:\n",
            "            casual  registered      cnt\n",
            "weathersit                             \n",
            "Clear       964.03     3912.76  4876.79\n",
            "Light Snow  185.48     1617.81  1803.29\n",
            "Mist        687.35     3348.51  4035.86\n",
            "--------------------------------------------------\n",
            "\n",
            "WORKINGDAY BASED CLUSTERING:\n",
            "             casual  registered      cnt\n",
            "workingday                              \n",
            "No          1371.13     2959.03  4330.17\n",
            "Yes          606.57     3978.25  4584.82\n",
            "--------------------------------------------------\n",
            "\n",
            "HOURLY DATA CLUSTERS\n",
            "--------------------------------------------------\n",
            "\n",
            "TIME_OF_DAY BASED CLUSTERING:\n",
            "             casual  registered     cnt\n",
            "time_of_day                            \n",
            "Night          3.49       25.17   28.66\n",
            "Morning       39.66      197.93  237.59\n",
            "Afternoon     71.99      252.15  324.14\n",
            "Evening       30.14      155.66  185.81\n",
            "--------------------------------------------------\n",
            "\n",
            "TEMPERATURE BASED CLUSTERING:\n",
            "               casual  registered     cnt\n",
            "temp_category                            \n",
            "Cool             6.54       77.84   84.38\n",
            "Moderate        29.70      148.19  177.90\n",
            "Hot             61.44      207.22  268.66\n",
            "--------------------------------------------------\n",
            "\n",
            "RUSH_HOUR BASED CLUSTERING:\n",
            "              casual  registered     cnt\n",
            "is_rush_hour                            \n",
            "0              33.39      120.45  153.84\n",
            "1              47.02      319.41  366.44\n",
            "--------------------------------------------------\n"
          ]
        },
        {
          "name": "stderr",
          "output_type": "stream",
          "text": [
            "C:\\Users\\Win10\\AppData\\Local\\Temp\\ipykernel_1132\\4077676872.py:35: FutureWarning: The default of observed=False is deprecated and will be changed to True in a future version of pandas. Pass observed=False to retain current behavior or observed=True to adopt the future default and silence this warning.\n",
            "  hour_timeofday_groups = hour_data.groupby('time_of_day').agg({\n",
            "C:\\Users\\Win10\\AppData\\Local\\Temp\\ipykernel_1132\\4077676872.py:46: FutureWarning: The default of observed=False is deprecated and will be changed to True in a future version of pandas. Pass observed=False to retain current behavior or observed=True to adopt the future default and silence this warning.\n",
            "  hour_temp_groups = hour_data.groupby('temp_category').agg({\n"
          ]
        }
      ],
      "source": [
        "def create_manual_clusters(day_data, hour_data):\n",
        "    \"\"\"\n",
        "    Create manual clusters based on different features for both daily and hourly data\n",
        "    \"\"\"\n",
        "    # Daily Data Clustering\n",
        "\n",
        "    # 1. Season-based clustering\n",
        "    day_season_groups = day_data.groupby('season').agg({\n",
        "        'casual': 'mean',\n",
        "        'registered': 'mean',\n",
        "        'cnt': 'mean'\n",
        "    }).round(2)\n",
        "\n",
        "    # 2. Weather-based clustering\n",
        "    day_weather_groups = day_data.groupby('weathersit').agg({\n",
        "        'casual': 'mean',\n",
        "        'registered': 'mean',\n",
        "        'cnt': 'mean'\n",
        "    }).round(2)\n",
        "\n",
        "    # 3. Workingday vs Non-workingday clustering\n",
        "    day_workingday_groups = day_data.groupby('workingday').agg({\n",
        "        'casual': 'mean',\n",
        "        'registered': 'mean',\n",
        "        'cnt': 'mean'\n",
        "    }).round(2)\n",
        "\n",
        "    # Hourly Data Clustering\n",
        "\n",
        "    # 1. Time of day clustering\n",
        "    hour_data['time_of_day'] = pd.cut(hour_data['hr'],\n",
        "                                     bins=[0, 6, 12, 18, 23],\n",
        "                                     labels=['Night', 'Morning', 'Afternoon', 'Evening'])\n",
        "\n",
        "    hour_timeofday_groups = hour_data.groupby('time_of_day').agg({\n",
        "        'casual': 'mean',\n",
        "        'registered': 'mean',\n",
        "        'cnt': 'mean'\n",
        "    }).round(2)\n",
        "\n",
        "    # 2. Temperature-based clustering\n",
        "    hour_data['temp_category'] = pd.cut(hour_data['temp'],\n",
        "                                      bins=[-np.inf, 0.3, 0.6, np.inf],\n",
        "                                      labels=['Cool', 'Moderate', 'Hot'])\n",
        "\n",
        "    hour_temp_groups = hour_data.groupby('temp_category').agg({\n",
        "        'casual': 'mean',\n",
        "        'registered': 'mean',\n",
        "        'cnt': 'mean'\n",
        "    }).round(2)\n",
        "\n",
        "    # 3. Rush hour clustering\n",
        "    hour_data['is_rush_hour'] = hour_data['hr'].apply(\n",
        "        lambda x: 1 if x in [8, 9, 17, 18] else 0\n",
        "    )\n",
        "\n",
        "    hour_rush_groups = hour_data.groupby('is_rush_hour').agg({\n",
        "        'casual': 'mean',\n",
        "        'registered': 'mean',\n",
        "        'cnt': 'mean'\n",
        "    }).round(2)\n",
        "\n",
        "    # Return all clustering results\n",
        "    clustering_results = {\n",
        "        'daily': {\n",
        "            'season': day_season_groups,\n",
        "            'weather': day_weather_groups,\n",
        "            'workingday': day_workingday_groups\n",
        "        },\n",
        "        'hourly': {\n",
        "            'time_of_day': hour_timeofday_groups,\n",
        "            'temperature': hour_temp_groups,\n",
        "            'rush_hour': hour_rush_groups\n",
        "        }\n",
        "    }\n",
        "\n",
        "    return clustering_results\n",
        "\n",
        "# Example usage:\n",
        "# clusters = create_manual_clusters(day_data, hour_data)\n",
        "\n",
        "# Print results example:\n",
        "def print_clustering_results(clusters):\n",
        "    \"\"\"\n",
        "    Print formatted clustering results\n",
        "    \"\"\"\n",
        "    print(\"\\nDAILY DATA CLUSTERS\")\n",
        "    print(\"-\" * 50)\n",
        "\n",
        "    for cluster_type, data in clusters['daily'].items():\n",
        "        print(f\"\\n{cluster_type.upper()} BASED CLUSTERING:\")\n",
        "        print(data)\n",
        "        print(\"-\" * 50)\n",
        "\n",
        "    print(\"\\nHOURLY DATA CLUSTERS\")\n",
        "    print(\"-\" * 50)\n",
        "\n",
        "    for cluster_type, data in clusters['hourly'].items():\n",
        "        print(f\"\\n{cluster_type.upper()} BASED CLUSTERING:\")\n",
        "        print(data)\n",
        "        print(\"-\" * 50)\n",
        "\n",
        "clusters = create_manual_clusters(day_data, hour_data)\n",
        "print_clustering_results(clusters)"
      ]
    },
    {
      "cell_type": "markdown",
      "metadata": {
        "id": "5efSq1gVTHuk"
      },
      "source": [
        "Kode ini membuat clustering manual berdasarkan beberapa kategori:\n",
        "1. day_data:\n",
        "\n",
        "- Clustering berdasarkan musim (season)\n",
        "- Clustering berdasarkan cuaca (weathersit)\n",
        "- Clustering berdasarkan hari kerja vs non-kerja (workingday)\n",
        "\n",
        "2. hour_data:\n",
        "- Clustering berdasarkan waktu hari (pagi, siang, sore, malam)\n",
        "- Clustering berdasarkan suhu (dingin, sedang, panas)\n",
        "- Clustering berdasarkan jam sibuk"
      ]
    },
    {
      "cell_type": "markdown",
      "metadata": {
        "id": "_WeHlCeX8DC2"
      },
      "source": [
        "## Conclusion"
      ]
    },
    {
      "cell_type": "markdown",
      "metadata": {
        "id": "ZTcyR48Y8DC2"
      },
      "source": [
        "1. Conclution pertanyaan 1 :\n",
        "- Rregistered user mendominasi penggunaan sepeda pada hari kerja (Senin-Jumat) dibandingkan casual user. Pola ini konsisten sepanjang hari kerja yang menunjukkan bahwa sepeda lebih banyak digunakan untuk aktivitas rutin seperti perjalanan ke tempat kerja atau aktivitas yang lainnya.\n",
        "\n",
        "2. Conclution pertanyaan 2 :\n",
        "- Terlihat bahwa penggunaan sepeda mencapai puncaknya pada bulan Januari dan Mei-Juni untuk kedua jenis pengguna. Jumlah pengguna terendah terjadi pada bulan Maret-April. Registered user selalu lebih tinggi dibandingkan casual sepanjang tahun.\n",
        "\n",
        "3. Conclution pertanyaan 3 :\n",
        "- Terdapat dua puncak penggunaan sepeda yang jelas, yaitu pada pagi hari sekitar jam 8 dan sore hari sekitar jam 17 yang kemungkinan berkaitan dengan jam berangkat dan pulang kerja."
      ]
    },
    {
      "cell_type": "markdown",
      "metadata": {},
      "source": [
        "## Export Dataset"
      ]
    },
    {
      "cell_type": "code",
      "execution_count": 42,
      "metadata": {},
      "outputs": [],
      "source": [
        "day_data.to_csv(\"dashboard/day_clean.csv\", index=False)"
      ]
    },
    {
      "cell_type": "code",
      "execution_count": 43,
      "metadata": {},
      "outputs": [],
      "source": [
        "hour_data.to_csv(\"dashboard/hour_clean.csv\", index=False)"
      ]
    }
  ],
  "metadata": {
    "colab": {
      "provenance": []
    },
    "kernelspec": {
      "display_name": "Python 3",
      "language": "python",
      "name": "python3"
    },
    "language_info": {
      "codemirror_mode": {
        "name": "ipython",
        "version": 3
      },
      "file_extension": ".py",
      "mimetype": "text/x-python",
      "name": "python",
      "nbconvert_exporter": "python",
      "pygments_lexer": "ipython3",
      "version": "3.9.13"
    },
    "orig_nbformat": 4
  },
  "nbformat": 4,
  "nbformat_minor": 0
}
